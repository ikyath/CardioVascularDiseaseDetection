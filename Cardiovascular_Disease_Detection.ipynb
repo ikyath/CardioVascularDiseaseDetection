{
  "nbformat": 4,
  "nbformat_minor": 0,
  "metadata": {
    "colab": {
      "name": "Cardiovascular Disease Detection.ipynb",
      "provenance": [],
      "collapsed_sections": [],
      "mount_file_id": "1JSSLRAdrdrnxe7Di9ICqfP6r_gxrIYBn",
      "authorship_tag": "ABX9TyPtosARs5nVWXJlkk/fDzri",
      "include_colab_link": true
    },
    "kernelspec": {
      "name": "python3",
      "display_name": "Python 3"
    }
  },
  "cells": [
    {
      "cell_type": "markdown",
      "metadata": {
        "id": "view-in-github",
        "colab_type": "text"
      },
      "source": [
        "<a href=\"https://colab.research.google.com/github/ikyath/CardioVascularDiseaseDetection/blob/master/Cardiovascular_Disease_Detection.ipynb\" target=\"_parent\"><img src=\"https://colab.research.google.com/assets/colab-badge.svg\" alt=\"Open In Colab\"/></a>"
      ]
    },
    {
      "cell_type": "code",
      "metadata": {
        "id": "1ZJx3BKuFyWx",
        "colab_type": "code",
        "colab": {}
      },
      "source": [
        "pwd\n"
      ],
      "execution_count": 0,
      "outputs": []
    },
    {
      "cell_type": "code",
      "metadata": {
        "id": "AobMORvnHn08",
        "colab_type": "code",
        "colab": {}
      },
      "source": [
        "import pandas as pd"
      ],
      "execution_count": 0,
      "outputs": []
    },
    {
      "cell_type": "code",
      "metadata": {
        "id": "USt6qYAlHISr",
        "colab_type": "code",
        "colab": {}
      },
      "source": [
        "ls"
      ],
      "execution_count": 0,
      "outputs": []
    },
    {
      "cell_type": "code",
      "metadata": {
        "id": "UvtFKSvHG5Ji",
        "colab_type": "code",
        "colab": {}
      },
      "source": [
        "cd /content/drive/My\\ Drive/Data\\ Science/Hackathon"
      ],
      "execution_count": 0,
      "outputs": []
    },
    {
      "cell_type": "code",
      "metadata": {
        "id": "QAieFhZ6HD6D",
        "colab_type": "code",
        "colab": {}
      },
      "source": [
        "train = pd.read_csv('cardio_train.csv',sep=';')"
      ],
      "execution_count": 0,
      "outputs": []
    },
    {
      "cell_type": "code",
      "metadata": {
        "id": "CpIG6gyNHmmN",
        "colab_type": "code",
        "colab": {}
      },
      "source": [
        "train.head()"
      ],
      "execution_count": 0,
      "outputs": []
    },
    {
      "cell_type": "code",
      "metadata": {
        "id": "5qmtttwFHr9x",
        "colab_type": "code",
        "colab": {}
      },
      "source": [
        "train.shape"
      ],
      "execution_count": 0,
      "outputs": []
    },
    {
      "cell_type": "code",
      "metadata": {
        "id": "LYp7lpsvHzVf",
        "colab_type": "code",
        "colab": {}
      },
      "source": [
        "train.info()"
      ],
      "execution_count": 0,
      "outputs": []
    },
    {
      "cell_type": "code",
      "metadata": {
        "id": "qaLKSa6EIJD-",
        "colab_type": "code",
        "colab": {}
      },
      "source": [
        "train.cholesterol.unique()"
      ],
      "execution_count": 0,
      "outputs": []
    },
    {
      "cell_type": "code",
      "metadata": {
        "id": "h9onW-gKIbb1",
        "colab_type": "code",
        "colab": {}
      },
      "source": [
        "train.gluc.unique()"
      ],
      "execution_count": 0,
      "outputs": []
    },
    {
      "cell_type": "code",
      "metadata": {
        "id": "o4Pb_ZiMId5e",
        "colab_type": "code",
        "colab": {}
      },
      "source": [
        "train.smoke.unique()"
      ],
      "execution_count": 0,
      "outputs": []
    },
    {
      "cell_type": "code",
      "metadata": {
        "id": "DzmIEvO0Ig12",
        "colab_type": "code",
        "colab": {}
      },
      "source": [
        "train.alco.unique()"
      ],
      "execution_count": 0,
      "outputs": []
    },
    {
      "cell_type": "code",
      "metadata": {
        "id": "jJ187Hd2Ik16",
        "colab_type": "code",
        "colab": {}
      },
      "source": [
        "train.active.unique()"
      ],
      "execution_count": 0,
      "outputs": []
    },
    {
      "cell_type": "code",
      "metadata": {
        "id": "DHbPtlt9InvJ",
        "colab_type": "code",
        "colab": {}
      },
      "source": [
        "train.cardio.unique()"
      ],
      "execution_count": 0,
      "outputs": []
    },
    {
      "cell_type": "code",
      "metadata": {
        "id": "TBkzB6W-JrPM",
        "colab_type": "code",
        "colab": {
          "base_uri": "https://localhost:8080/",
          "height": 224
        },
        "outputId": "0b06be62-8556-4793-94d6-abe0e58d2574"
      },
      "source": [
        "train.head()"
      ],
      "execution_count": 50,
      "outputs": [
        {
          "output_type": "execute_result",
          "data": {
            "text/html": [
              "<div>\n",
              "<style scoped>\n",
              "    .dataframe tbody tr th:only-of-type {\n",
              "        vertical-align: middle;\n",
              "    }\n",
              "\n",
              "    .dataframe tbody tr th {\n",
              "        vertical-align: top;\n",
              "    }\n",
              "\n",
              "    .dataframe thead th {\n",
              "        text-align: right;\n",
              "    }\n",
              "</style>\n",
              "<table border=\"1\" class=\"dataframe\">\n",
              "  <thead>\n",
              "    <tr style=\"text-align: right;\">\n",
              "      <th></th>\n",
              "      <th>id</th>\n",
              "      <th>age</th>\n",
              "      <th>gender</th>\n",
              "      <th>height</th>\n",
              "      <th>weight</th>\n",
              "      <th>ap_hi</th>\n",
              "      <th>ap_lo</th>\n",
              "      <th>cholesterol</th>\n",
              "      <th>gluc</th>\n",
              "      <th>smoke</th>\n",
              "      <th>alco</th>\n",
              "      <th>active</th>\n",
              "      <th>cardio</th>\n",
              "    </tr>\n",
              "  </thead>\n",
              "  <tbody>\n",
              "    <tr>\n",
              "      <th>0</th>\n",
              "      <td>988</td>\n",
              "      <td>22469</td>\n",
              "      <td>1</td>\n",
              "      <td>155</td>\n",
              "      <td>69.0</td>\n",
              "      <td>130</td>\n",
              "      <td>80</td>\n",
              "      <td>2</td>\n",
              "      <td>2</td>\n",
              "      <td>0</td>\n",
              "      <td>0</td>\n",
              "      <td>1</td>\n",
              "      <td>0</td>\n",
              "    </tr>\n",
              "    <tr>\n",
              "      <th>1</th>\n",
              "      <td>989</td>\n",
              "      <td>14648</td>\n",
              "      <td>1</td>\n",
              "      <td>163</td>\n",
              "      <td>71.0</td>\n",
              "      <td>110</td>\n",
              "      <td>70</td>\n",
              "      <td>1</td>\n",
              "      <td>1</td>\n",
              "      <td>0</td>\n",
              "      <td>0</td>\n",
              "      <td>1</td>\n",
              "      <td>1</td>\n",
              "    </tr>\n",
              "    <tr>\n",
              "      <th>2</th>\n",
              "      <td>990</td>\n",
              "      <td>21901</td>\n",
              "      <td>1</td>\n",
              "      <td>165</td>\n",
              "      <td>70.0</td>\n",
              "      <td>120</td>\n",
              "      <td>80</td>\n",
              "      <td>1</td>\n",
              "      <td>1</td>\n",
              "      <td>0</td>\n",
              "      <td>0</td>\n",
              "      <td>1</td>\n",
              "      <td>0</td>\n",
              "    </tr>\n",
              "    <tr>\n",
              "      <th>3</th>\n",
              "      <td>991</td>\n",
              "      <td>14549</td>\n",
              "      <td>2</td>\n",
              "      <td>165</td>\n",
              "      <td>85.0</td>\n",
              "      <td>120</td>\n",
              "      <td>80</td>\n",
              "      <td>1</td>\n",
              "      <td>1</td>\n",
              "      <td>1</td>\n",
              "      <td>1</td>\n",
              "      <td>1</td>\n",
              "      <td>0</td>\n",
              "    </tr>\n",
              "    <tr>\n",
              "      <th>4</th>\n",
              "      <td>992</td>\n",
              "      <td>23393</td>\n",
              "      <td>1</td>\n",
              "      <td>155</td>\n",
              "      <td>62.0</td>\n",
              "      <td>120</td>\n",
              "      <td>80</td>\n",
              "      <td>1</td>\n",
              "      <td>1</td>\n",
              "      <td>0</td>\n",
              "      <td>0</td>\n",
              "      <td>1</td>\n",
              "      <td>0</td>\n",
              "    </tr>\n",
              "  </tbody>\n",
              "</table>\n",
              "</div>"
            ],
            "text/plain": [
              "    id    age  gender  height  weight  ...  gluc  smoke  alco  active  cardio\n",
              "0  988  22469       1     155    69.0  ...     2      0     0       1       0\n",
              "1  989  14648       1     163    71.0  ...     1      0     0       1       1\n",
              "2  990  21901       1     165    70.0  ...     1      0     0       1       0\n",
              "3  991  14549       2     165    85.0  ...     1      1     1       1       0\n",
              "4  992  23393       1     155    62.0  ...     1      0     0       1       0\n",
              "\n",
              "[5 rows x 13 columns]"
            ]
          },
          "metadata": {
            "tags": []
          },
          "execution_count": 50
        }
      ]
    },
    {
      "cell_type": "markdown",
      "metadata": {
        "id": "te7Qef1iJ9Yz",
        "colab_type": "text"
      },
      "source": [
        " Number of Patients"
      ]
    },
    {
      "cell_type": "code",
      "metadata": {
        "id": "PA0UXq0WJscz",
        "colab_type": "code",
        "colab": {
          "base_uri": "https://localhost:8080/",
          "height": 34
        },
        "outputId": "921a49fc-b4e6-4908-a78d-71310bf8bcb2"
      },
      "source": [
        "train.shape[0]"
      ],
      "execution_count": 51,
      "outputs": [
        {
          "output_type": "execute_result",
          "data": {
            "text/plain": [
              "69301"
            ]
          },
          "metadata": {
            "tags": []
          },
          "execution_count": 51
        }
      ]
    },
    {
      "cell_type": "markdown",
      "metadata": {
        "id": "fty5CZK-Ki2B",
        "colab_type": "text"
      },
      "source": [
        " Check for any duplicate entries of patients based on id"
      ]
    },
    {
      "cell_type": "code",
      "metadata": {
        "id": "tYbNZJbuJykv",
        "colab_type": "code",
        "colab": {
          "base_uri": "https://localhost:8080/",
          "height": 34
        },
        "outputId": "a703b71c-3a7c-4147-e2aa-0a75293b81c2"
      },
      "source": [
        "(train['id'].value_counts()>=2).sum()"
      ],
      "execution_count": 56,
      "outputs": [
        {
          "output_type": "execute_result",
          "data": {
            "text/plain": [
              "0"
            ]
          },
          "metadata": {
            "tags": []
          },
          "execution_count": 56
        }
      ]
    },
    {
      "cell_type": "code",
      "metadata": {
        "id": "3HfdN8OzKRi3",
        "colab_type": "code",
        "colab": {
          "base_uri": "https://localhost:8080/",
          "height": 68
        },
        "outputId": "ca415bbe-25f4-46b1-d389-0eb82d994a84"
      },
      "source": [
        "train.gender.value_counts()"
      ],
      "execution_count": 57,
      "outputs": [
        {
          "output_type": "execute_result",
          "data": {
            "text/plain": [
              "1    45079\n",
              "2    24222\n",
              "Name: gender, dtype: int64"
            ]
          },
          "metadata": {
            "tags": []
          },
          "execution_count": 57
        }
      ]
    },
    {
      "cell_type": "code",
      "metadata": {
        "id": "FbZf4JAAKv_g",
        "colab_type": "code",
        "colab": {
          "base_uri": "https://localhost:8080/",
          "height": 85
        },
        "outputId": "118c3997-82e2-4fb1-d371-fed1fc108a57"
      },
      "source": [
        "train.cholesterol.value_counts()"
      ],
      "execution_count": 59,
      "outputs": [
        {
          "output_type": "execute_result",
          "data": {
            "text/plain": [
              "1    51868\n",
              "2     9446\n",
              "3     7987\n",
              "Name: cholesterol, dtype: int64"
            ]
          },
          "metadata": {
            "tags": []
          },
          "execution_count": 59
        }
      ]
    },
    {
      "cell_type": "code",
      "metadata": {
        "id": "V91SUJukK4L9",
        "colab_type": "code",
        "colab": {
          "base_uri": "https://localhost:8080/",
          "height": 85
        },
        "outputId": "1453ec23-07e9-44c1-c1a2-0a951c0b47fc"
      },
      "source": [
        "train.gluc.value_counts()"
      ],
      "execution_count": 61,
      "outputs": [
        {
          "output_type": "execute_result",
          "data": {
            "text/plain": [
              "1    58885\n",
              "3     5277\n",
              "2     5139\n",
              "Name: gluc, dtype: int64"
            ]
          },
          "metadata": {
            "tags": []
          },
          "execution_count": 61
        }
      ]
    },
    {
      "cell_type": "code",
      "metadata": {
        "id": "Bs6dEZCKK_K_",
        "colab_type": "code",
        "colab": {
          "base_uri": "https://localhost:8080/",
          "height": 68
        },
        "outputId": "2b91e109-a3c7-456a-9dca-e45b54c145e6"
      },
      "source": [
        "train.smoke.value_counts()"
      ],
      "execution_count": 62,
      "outputs": [
        {
          "output_type": "execute_result",
          "data": {
            "text/plain": [
              "0    63199\n",
              "1     6102\n",
              "Name: smoke, dtype: int64"
            ]
          },
          "metadata": {
            "tags": []
          },
          "execution_count": 62
        }
      ]
    },
    {
      "cell_type": "code",
      "metadata": {
        "id": "8iaYuoNrLFNG",
        "colab_type": "code",
        "colab": {
          "base_uri": "https://localhost:8080/",
          "height": 68
        },
        "outputId": "a9d79062-8c9f-47e9-8812-559f9083887c"
      },
      "source": [
        "train.alco.value_counts()"
      ],
      "execution_count": 63,
      "outputs": [
        {
          "output_type": "execute_result",
          "data": {
            "text/plain": [
              "0    65567\n",
              "1     3734\n",
              "Name: alco, dtype: int64"
            ]
          },
          "metadata": {
            "tags": []
          },
          "execution_count": 63
        }
      ]
    },
    {
      "cell_type": "code",
      "metadata": {
        "id": "Dv4KPZALLJiU",
        "colab_type": "code",
        "colab": {
          "base_uri": "https://localhost:8080/",
          "height": 68
        },
        "outputId": "cffdf61a-b0e8-4eb1-a6a4-da324ce4d6bd"
      },
      "source": [
        "train.active.value_counts()"
      ],
      "execution_count": 64,
      "outputs": [
        {
          "output_type": "execute_result",
          "data": {
            "text/plain": [
              "1    55717\n",
              "0    13584\n",
              "Name: active, dtype: int64"
            ]
          },
          "metadata": {
            "tags": []
          },
          "execution_count": 64
        }
      ]
    },
    {
      "cell_type": "markdown",
      "metadata": {
        "id": "BeTW_MhsLRPb",
        "colab_type": "text"
      },
      "source": [
        "The dataset to be classified as target variable is balanced."
      ]
    },
    {
      "cell_type": "code",
      "metadata": {
        "id": "wvmcZQkILNF2",
        "colab_type": "code",
        "colab": {
          "base_uri": "https://localhost:8080/",
          "height": 68
        },
        "outputId": "069230d1-7b97-4a52-8434-5360b22510b9"
      },
      "source": [
        "train.cardio.value_counts()"
      ],
      "execution_count": 65,
      "outputs": [
        {
          "output_type": "execute_result",
          "data": {
            "text/plain": [
              "0    34679\n",
              "1    34622\n",
              "Name: cardio, dtype: int64"
            ]
          },
          "metadata": {
            "tags": []
          },
          "execution_count": 65
        }
      ]
    },
    {
      "cell_type": "code",
      "metadata": {
        "id": "cdtN-obCMD0z",
        "colab_type": "code",
        "colab": {}
      },
      "source": [
        "from sklearn.preprocessing import StandardScaler\n",
        "from sklearn.model_selection import train_test_split"
      ],
      "execution_count": 0,
      "outputs": []
    },
    {
      "cell_type": "code",
      "metadata": {
        "id": "1uuG1EVoMqDK",
        "colab_type": "code",
        "colab": {}
      },
      "source": [
        "features=['age','gender','height','weight','ap_hi','ap_lo','cholesterol','gluc','smoke','alco','active']"
      ],
      "execution_count": 0,
      "outputs": []
    },
    {
      "cell_type": "code",
      "metadata": {
        "id": "9q2g5XplNyns",
        "colab_type": "code",
        "colab": {}
      },
      "source": [
        "features_vif=['age','gender','height','weight','ap_hi','ap_lo','cholesterol','gluc','smoke','alco','active','cardio']"
      ],
      "execution_count": 0,
      "outputs": []
    },
    {
      "cell_type": "code",
      "metadata": {
        "id": "N4MBP5Z7L-pj",
        "colab_type": "code",
        "colab": {}
      },
      "source": [
        "scaler = StandardScaler().fit(train[features])\n",
        "df_rescaled = scaler.transform(train[features])\n",
        "\n",
        "X_train, X_test, y_train, y_test = train_test_split(train[features], train['cardio'], test_size=0.33, random_state=42)"
      ],
      "execution_count": 0,
      "outputs": []
    },
    {
      "cell_type": "code",
      "metadata": {
        "id": "7uCdD8rCLPo9",
        "colab_type": "code",
        "colab": {}
      },
      "source": [
        "import statsmodels.api as sm"
      ],
      "execution_count": 0,
      "outputs": []
    },
    {
      "cell_type": "code",
      "metadata": {
        "id": "wRaSIAeUL5Ua",
        "colab_type": "code",
        "colab": {}
      },
      "source": [
        "logml = sm.GLM(y_train,(sm.add_constant(X_train)),family = sm.families.Binomial())\n"
      ],
      "execution_count": 0,
      "outputs": []
    },
    {
      "cell_type": "code",
      "metadata": {
        "id": "4uTUOFlEMcZo",
        "colab_type": "code",
        "colab": {
          "base_uri": "https://localhost:8080/",
          "height": 724
        },
        "outputId": "87a4ff06-4431-404b-b8c3-ecc029c610bc"
      },
      "source": [
        "logml.fit().summary()"
      ],
      "execution_count": 82,
      "outputs": [
        {
          "output_type": "stream",
          "text": [
            "/usr/local/lib/python3.6/dist-packages/statsmodels/genmod/families/family.py:890: RuntimeWarning: divide by zero encountered in true_divide\n",
            "  n_endog_mu = self._clean((1. - endog) / (1. - mu))\n",
            "/usr/local/lib/python3.6/dist-packages/statsmodels/genmod/families/family.py:890: RuntimeWarning: invalid value encountered in true_divide\n",
            "  n_endog_mu = self._clean((1. - endog) / (1. - mu))\n",
            "/usr/local/lib/python3.6/dist-packages/statsmodels/genmod/families/family.py:942: RuntimeWarning: divide by zero encountered in true_divide\n",
            "  special.gammaln(n - y + 1) + y * np.log(mu / (1 - mu)) +\n",
            "/usr/local/lib/python3.6/dist-packages/statsmodels/genmod/families/family.py:942: RuntimeWarning: invalid value encountered in multiply\n",
            "  special.gammaln(n - y + 1) + y * np.log(mu / (1 - mu)) +\n",
            "/usr/local/lib/python3.6/dist-packages/statsmodels/genmod/families/family.py:943: RuntimeWarning: divide by zero encountered in log\n",
            "  n * np.log(1 - mu)) * var_weights\n",
            "/usr/local/lib/python3.6/dist-packages/statsmodels/genmod/families/family.py:943: RuntimeWarning: invalid value encountered in add\n",
            "  n * np.log(1 - mu)) * var_weights\n"
          ],
          "name": "stderr"
        },
        {
          "output_type": "execute_result",
          "data": {
            "text/html": [
              "<table class=\"simpletable\">\n",
              "<caption>Generalized Linear Model Regression Results</caption>\n",
              "<tr>\n",
              "  <th>Dep. Variable:</th>        <td>cardio</td>      <th>  No. Observations:  </th>  <td> 46431</td> \n",
              "</tr>\n",
              "<tr>\n",
              "  <th>Model:</th>                  <td>GLM</td>       <th>  Df Residuals:      </th>  <td> 46419</td> \n",
              "</tr>\n",
              "<tr>\n",
              "  <th>Model Family:</th>        <td>Binomial</td>     <th>  Df Model:          </th>  <td>    11</td> \n",
              "</tr>\n",
              "<tr>\n",
              "  <th>Link Function:</th>         <td>logit</td>      <th>  Scale:             </th> <td>  1.0000</td>\n",
              "</tr>\n",
              "<tr>\n",
              "  <th>Method:</th>                <td>IRLS</td>       <th>  Log-Likelihood:    </th> <td>     nan</td>\n",
              "</tr>\n",
              "<tr>\n",
              "  <th>Date:</th>            <td>Mon, 11 May 2020</td> <th>  Deviance:          </th> <td>     nan</td>\n",
              "</tr>\n",
              "<tr>\n",
              "  <th>Time:</th>                <td>00:49:06</td>     <th>  Pearson chi2:      </th> <td>1.00e+16</td>\n",
              "</tr>\n",
              "<tr>\n",
              "  <th>No. Iterations:</th>         <td>100</td>       <th>                     </th>     <td> </td>   \n",
              "</tr>\n",
              "<tr>\n",
              "  <th>Covariance Type:</th>     <td>nonrobust</td>    <th>                     </th>     <td> </td>   \n",
              "</tr>\n",
              "</table>\n",
              "<table class=\"simpletable\">\n",
              "<tr>\n",
              "       <td></td>          <th>coef</th>     <th>std err</th>      <th>z</th>      <th>P>|z|</th>  <th>[0.025</th>    <th>0.975]</th>  \n",
              "</tr>\n",
              "<tr>\n",
              "  <th>const</th>       <td>   -8.8973</td> <td>    0.265</td> <td>  -33.513</td> <td> 0.000</td> <td>   -9.418</td> <td>   -8.377</td>\n",
              "</tr>\n",
              "<tr>\n",
              "  <th>age</th>         <td>    0.0001</td> <td> 4.39e-06</td> <td>   34.009</td> <td> 0.000</td> <td>    0.000</td> <td>    0.000</td>\n",
              "</tr>\n",
              "<tr>\n",
              "  <th>gender</th>      <td>   -0.0019</td> <td>    0.026</td> <td>   -0.073</td> <td> 0.942</td> <td>   -0.053</td> <td>    0.049</td>\n",
              "</tr>\n",
              "<tr>\n",
              "  <th>height</th>      <td>   -0.0052</td> <td>    0.002</td> <td>   -3.429</td> <td> 0.001</td> <td>   -0.008</td> <td>   -0.002</td>\n",
              "</tr>\n",
              "<tr>\n",
              "  <th>weight</th>      <td>    0.0154</td> <td>    0.001</td> <td>   18.772</td> <td> 0.000</td> <td>    0.014</td> <td>    0.017</td>\n",
              "</tr>\n",
              "<tr>\n",
              "  <th>ap_hi</th>       <td>    0.0418</td> <td>    0.001</td> <td>   54.582</td> <td> 0.000</td> <td>    0.040</td> <td>    0.043</td>\n",
              "</tr>\n",
              "<tr>\n",
              "  <th>ap_lo</th>       <td>    0.0006</td> <td>    0.000</td> <td>    4.735</td> <td> 0.000</td> <td>    0.000</td> <td>    0.001</td>\n",
              "</tr>\n",
              "<tr>\n",
              "  <th>cholesterol</th> <td>    0.5253</td> <td>    0.019</td> <td>   28.367</td> <td> 0.000</td> <td>    0.489</td> <td>    0.562</td>\n",
              "</tr>\n",
              "<tr>\n",
              "  <th>gluc</th>        <td>   -0.1264</td> <td>    0.021</td> <td>   -6.007</td> <td> 0.000</td> <td>   -0.168</td> <td>   -0.085</td>\n",
              "</tr>\n",
              "<tr>\n",
              "  <th>smoke</th>       <td>   -0.1223</td> <td>    0.041</td> <td>   -2.978</td> <td> 0.003</td> <td>   -0.203</td> <td>   -0.042</td>\n",
              "</tr>\n",
              "<tr>\n",
              "  <th>alco</th>        <td>   -0.2043</td> <td>    0.050</td> <td>   -4.097</td> <td> 0.000</td> <td>   -0.302</td> <td>   -0.107</td>\n",
              "</tr>\n",
              "<tr>\n",
              "  <th>active</th>      <td>   -0.2063</td> <td>    0.026</td> <td>   -7.970</td> <td> 0.000</td> <td>   -0.257</td> <td>   -0.156</td>\n",
              "</tr>\n",
              "</table>"
            ],
            "text/plain": [
              "<class 'statsmodels.iolib.summary.Summary'>\n",
              "\"\"\"\n",
              "                 Generalized Linear Model Regression Results                  \n",
              "==============================================================================\n",
              "Dep. Variable:                 cardio   No. Observations:                46431\n",
              "Model:                            GLM   Df Residuals:                    46419\n",
              "Model Family:                Binomial   Df Model:                           11\n",
              "Link Function:                  logit   Scale:                          1.0000\n",
              "Method:                          IRLS   Log-Likelihood:                    nan\n",
              "Date:                Mon, 11 May 2020   Deviance:                          nan\n",
              "Time:                        00:49:06   Pearson chi2:                 1.00e+16\n",
              "No. Iterations:                   100                                         \n",
              "Covariance Type:            nonrobust                                         \n",
              "===============================================================================\n",
              "                  coef    std err          z      P>|z|      [0.025      0.975]\n",
              "-------------------------------------------------------------------------------\n",
              "const          -8.8973      0.265    -33.513      0.000      -9.418      -8.377\n",
              "age             0.0001   4.39e-06     34.009      0.000       0.000       0.000\n",
              "gender         -0.0019      0.026     -0.073      0.942      -0.053       0.049\n",
              "height         -0.0052      0.002     -3.429      0.001      -0.008      -0.002\n",
              "weight          0.0154      0.001     18.772      0.000       0.014       0.017\n",
              "ap_hi           0.0418      0.001     54.582      0.000       0.040       0.043\n",
              "ap_lo           0.0006      0.000      4.735      0.000       0.000       0.001\n",
              "cholesterol     0.5253      0.019     28.367      0.000       0.489       0.562\n",
              "gluc           -0.1264      0.021     -6.007      0.000      -0.168      -0.085\n",
              "smoke          -0.1223      0.041     -2.978      0.003      -0.203      -0.042\n",
              "alco           -0.2043      0.050     -4.097      0.000      -0.302      -0.107\n",
              "active         -0.2063      0.026     -7.970      0.000      -0.257      -0.156\n",
              "===============================================================================\n",
              "\"\"\""
            ]
          },
          "metadata": {
            "tags": []
          },
          "execution_count": 82
        }
      ]
    },
    {
      "cell_type": "code",
      "metadata": {
        "id": "RNo7s-JlMiEH",
        "colab_type": "code",
        "colab": {}
      },
      "source": [
        "def vif_cal(input_data,dependent_col):\n",
        "    vif_df=pd.DataFrame( columns = ['Var','Vif'])\n",
        "    x_vars=input_data.drop([dependent_col],axis=1)\n",
        "    xvar_names = x_vars.columns\n",
        "    for i in range(0,xvar_names.shape[0]):\n",
        "        y=x_vars[xvar_names[i]]\n",
        "        x=x_vars[xvar_names.drop(xvar_names[i])]\n",
        "        rsq=sm.OLS(y,x).fit().rsquared\n",
        "        vif = round(1/(1-rsq),2)\n",
        "        vif_df.loc[i]=[xvar_names[i],vif]\n",
        "    return vif_df.sort_values(by='Vif', axis=0, ascending=False,inplace=False)"
      ],
      "execution_count": 0,
      "outputs": []
    },
    {
      "cell_type": "code",
      "metadata": {
        "id": "Uq3gd9_-NVo8",
        "colab_type": "code",
        "colab": {
          "base_uri": "https://localhost:8080/",
          "height": 390
        },
        "outputId": "0620bf67-ff39-4e40-c837-3f0c46acaba7"
      },
      "source": [
        "vif_cal(input_data=train[features_vif],dependent_col=\"cardio\")"
      ],
      "execution_count": 85,
      "outputs": [
        {
          "output_type": "execute_result",
          "data": {
            "text/html": [
              "<div>\n",
              "<style scoped>\n",
              "    .dataframe tbody tr th:only-of-type {\n",
              "        vertical-align: middle;\n",
              "    }\n",
              "\n",
              "    .dataframe tbody tr th {\n",
              "        vertical-align: top;\n",
              "    }\n",
              "\n",
              "    .dataframe thead th {\n",
              "        text-align: right;\n",
              "    }\n",
              "</style>\n",
              "<table border=\"1\" class=\"dataframe\">\n",
              "  <thead>\n",
              "    <tr style=\"text-align: right;\">\n",
              "      <th></th>\n",
              "      <th>Var</th>\n",
              "      <th>Vif</th>\n",
              "    </tr>\n",
              "  </thead>\n",
              "  <tbody>\n",
              "    <tr>\n",
              "      <th>2</th>\n",
              "      <td>height</td>\n",
              "      <td>97.50</td>\n",
              "    </tr>\n",
              "    <tr>\n",
              "      <th>0</th>\n",
              "      <td>age</td>\n",
              "      <td>55.66</td>\n",
              "    </tr>\n",
              "    <tr>\n",
              "      <th>3</th>\n",
              "      <td>weight</td>\n",
              "      <td>31.14</td>\n",
              "    </tr>\n",
              "    <tr>\n",
              "      <th>1</th>\n",
              "      <td>gender</td>\n",
              "      <td>11.75</td>\n",
              "    </tr>\n",
              "    <tr>\n",
              "      <th>7</th>\n",
              "      <td>gluc</td>\n",
              "      <td>7.04</td>\n",
              "    </tr>\n",
              "    <tr>\n",
              "      <th>6</th>\n",
              "      <td>cholesterol</td>\n",
              "      <td>6.53</td>\n",
              "    </tr>\n",
              "    <tr>\n",
              "      <th>10</th>\n",
              "      <td>active</td>\n",
              "      <td>5.06</td>\n",
              "    </tr>\n",
              "    <tr>\n",
              "      <th>4</th>\n",
              "      <td>ap_hi</td>\n",
              "      <td>1.70</td>\n",
              "    </tr>\n",
              "    <tr>\n",
              "      <th>8</th>\n",
              "      <td>smoke</td>\n",
              "      <td>1.37</td>\n",
              "    </tr>\n",
              "    <tr>\n",
              "      <th>5</th>\n",
              "      <td>ap_lo</td>\n",
              "      <td>1.26</td>\n",
              "    </tr>\n",
              "    <tr>\n",
              "      <th>9</th>\n",
              "      <td>alco</td>\n",
              "      <td>1.20</td>\n",
              "    </tr>\n",
              "  </tbody>\n",
              "</table>\n",
              "</div>"
            ],
            "text/plain": [
              "            Var    Vif\n",
              "2        height  97.50\n",
              "0           age  55.66\n",
              "3        weight  31.14\n",
              "1        gender  11.75\n",
              "7          gluc   7.04\n",
              "6   cholesterol   6.53\n",
              "10       active   5.06\n",
              "4         ap_hi   1.70\n",
              "8         smoke   1.37\n",
              "5         ap_lo   1.26\n",
              "9          alco   1.20"
            ]
          },
          "metadata": {
            "tags": []
          },
          "execution_count": 85
        }
      ]
    },
    {
      "cell_type": "code",
      "metadata": {
        "id": "y0lqW_mAN7ob",
        "colab_type": "code",
        "colab": {}
      },
      "source": [
        "from sklearn import metrics"
      ],
      "execution_count": 0,
      "outputs": []
    },
    {
      "cell_type": "code",
      "metadata": {
        "id": "eDO6ROm5OExc",
        "colab_type": "code",
        "colab": {}
      },
      "source": [
        "import matplotlib.pyplot as plt\n",
        "import seaborn as sns\n",
        "%matplotlib inline"
      ],
      "execution_count": 0,
      "outputs": []
    },
    {
      "cell_type": "code",
      "metadata": {
        "id": "SjPZsAflOGL5",
        "colab_type": "code",
        "colab": {
          "base_uri": "https://localhost:8080/",
          "height": 494
        },
        "outputId": "6256de0b-9ebf-4786-cd30-2bb6d674db45"
      },
      "source": [
        "plt.figure(figsize=(30,20))\n",
        "sns.heatmap(train.corr(),annot=True)\n"
      ],
      "execution_count": 88,
      "outputs": [
        {
          "output_type": "execute_result",
          "data": {
            "text/plain": [
              "<matplotlib.axes._subplots.AxesSubplot at 0x7f6179bd3828>"
            ]
          },
          "metadata": {
            "tags": []
          },
          "execution_count": 88
        },
        {
          "output_type": "display_data",
          "data": {
            "image/png": "[encoded data removed]",
            "text/plain": [
              "<Figure size 2160x1440 with 2 Axes>"
            ]
          },
          "metadata": {
            "tags": [],
            "needs_background": "light"
          }
        }
      ]
    },
    {
      "cell_type": "code",
      "metadata": {
        "id": "ukuzldFPOSTb",
        "colab_type": "code",
        "colab": {}
      },
      "source": [
        "from sklearn.linear_model import LogisticRegression\n",
        "from sklearn.metrics import accuracy_score,confusion_matrix"
      ],
      "execution_count": 0,
      "outputs": []
    },
    {
      "cell_type": "code",
      "metadata": {
        "id": "tcD0l0b2OI9l",
        "colab_type": "code",
        "colab": {}
      },
      "source": [
        "logreg = LogisticRegression()\n"
      ],
      "execution_count": 0,
      "outputs": []
    },
    {
      "cell_type": "code",
      "metadata": {
        "id": "Vqs1VenKOQi3",
        "colab_type": "code",
        "colab": {
          "base_uri": "https://localhost:8080/",
          "height": 122
        },
        "outputId": "9be16d7f-72a6-45e7-d6c3-7cac4dd840bc"
      },
      "source": [
        "logreg.fit(X_train,y_train)"
      ],
      "execution_count": 95,
      "outputs": [
        {
          "output_type": "execute_result",
          "data": {
            "text/plain": [
              "LogisticRegression(C=1.0, class_weight=None, dual=False, fit_intercept=True,\n",
              "                   intercept_scaling=1, l1_ratio=None, max_iter=100,\n",
              "                   multi_class='auto', n_jobs=None, penalty='l2',\n",
              "                   random_state=None, solver='lbfgs', tol=0.0001, verbose=0,\n",
              "                   warm_start=False)"
            ]
          },
          "metadata": {
            "tags": []
          },
          "execution_count": 95
        }
      ]
    },
    {
      "cell_type": "code",
      "metadata": {
        "id": "6TqRU_ZlOuvk",
        "colab_type": "code",
        "colab": {}
      },
      "source": [
        "y_pred_log = logreg.predict(X_test)"
      ],
      "execution_count": 0,
      "outputs": []
    },
    {
      "cell_type": "code",
      "metadata": {
        "id": "f6uAGPDIOzmf",
        "colab_type": "code",
        "colab": {
          "base_uri": "https://localhost:8080/",
          "height": 34
        },
        "outputId": "c7e11050-f029-4747-b026-6cdc72e13c2a"
      },
      "source": [
        "print(accuracy_score(y_test,y_pred_log))"
      ],
      "execution_count": 100,
      "outputs": [
        {
          "output_type": "stream",
          "text": [
            "0.6976388281591605\n"
          ],
          "name": "stdout"
        }
      ]
    },
    {
      "cell_type": "code",
      "metadata": {
        "id": "6zZw5iQ6O6Tb",
        "colab_type": "code",
        "colab": {
          "base_uri": "https://localhost:8080/",
          "height": 51
        },
        "outputId": "198d611b-3572-4633-ab82-58ef04a1e96e"
      },
      "source": [
        "confusion_matrix(y_test,y_pred_log)"
      ],
      "execution_count": 102,
      "outputs": [
        {
          "output_type": "execute_result",
          "data": {
            "text/plain": [
              "array([[8334, 3044],\n",
              "       [3871, 7621]])"
            ]
          },
          "metadata": {
            "tags": []
          },
          "execution_count": 102
        }
      ]
    },
    {
      "cell_type": "code",
      "metadata": {
        "id": "8o8fZR7BPM8k",
        "colab_type": "code",
        "colab": {
          "base_uri": "https://localhost:8080/",
          "height": 295
        },
        "outputId": "124d3128-8972-4a0f-b23b-fe38fea3f1f2"
      },
      "source": [
        "fpr, tpr, threshold = metrics.roc_curve(y_test, y_pred_log)\n",
        "roc_auc = metrics.auc(fpr, tpr)\n",
        "\n",
        "plt.title('ROC Curve')\n",
        "plt.plot(fpr, tpr, label = 'AUC = %0.2f' % roc_auc)\n",
        "plt.plot([0, 1], [0, 1],'r--')\n",
        "plt.ylabel('True Positive Rate')\n",
        "plt.xlabel('False Positive Rate')\n",
        "plt.show()"
      ],
      "execution_count": 103,
      "outputs": [
        {
          "output_type": "display_data",
          "data": {
            "image/png": "[encoded data removed]",
            "text/plain": [
              "<Figure size 432x288 with 1 Axes>"
            ]
          },
          "metadata": {
            "tags": [],
            "needs_background": "light"
          }
        }
      ]
    },
    {
      "cell_type": "code",
      "metadata": {
        "id": "cvSbDww1PN1I",
        "colab_type": "code",
        "colab": {}
      },
      "source": [
        "from sklearn.ensemble import RandomForestClassifier "
      ],
      "execution_count": 0,
      "outputs": []
    },
    {
      "cell_type": "code",
      "metadata": {
        "id": "dYdR4G8GPsfo",
        "colab_type": "code",
        "colab": {}
      },
      "source": [
        "RFModel = RandomForestClassifier()"
      ],
      "execution_count": 0,
      "outputs": []
    },
    {
      "cell_type": "code",
      "metadata": {
        "id": "9COUjItzP5w_",
        "colab_type": "code",
        "colab": {
          "base_uri": "https://localhost:8080/",
          "height": 173
        },
        "outputId": "a5713f96-17f9-4e5f-a2c6-67cbaa43623b"
      },
      "source": [
        "RFModel.fit(X_train,y_train)"
      ],
      "execution_count": 106,
      "outputs": [
        {
          "output_type": "execute_result",
          "data": {
            "text/plain": [
              "RandomForestClassifier(bootstrap=True, ccp_alpha=0.0, class_weight=None,\n",
              "                       criterion='gini', max_depth=None, max_features='auto',\n",
              "                       max_leaf_nodes=None, max_samples=None,\n",
              "                       min_impurity_decrease=0.0, min_impurity_split=None,\n",
              "                       min_samples_leaf=1, min_samples_split=2,\n",
              "                       min_weight_fraction_leaf=0.0, n_estimators=100,\n",
              "                       n_jobs=None, oob_score=False, random_state=None,\n",
              "                       verbose=0, warm_start=False)"
            ]
          },
          "metadata": {
            "tags": []
          },
          "execution_count": 106
        }
      ]
    },
    {
      "cell_type": "code",
      "metadata": {
        "id": "-aQwby0nP9wC",
        "colab_type": "code",
        "colab": {}
      },
      "source": [
        "y_pred_rf = RFModel.predict(X_test)"
      ],
      "execution_count": 0,
      "outputs": []
    },
    {
      "cell_type": "code",
      "metadata": {
        "id": "YmsnWR7jQCKO",
        "colab_type": "code",
        "colab": {
          "base_uri": "https://localhost:8080/",
          "height": 34
        },
        "outputId": "f890a6be-7481-43c7-efb0-84d1ee35972d"
      },
      "source": [
        "accuracy_score(y_test,y_pred_rf)"
      ],
      "execution_count": 108,
      "outputs": [
        {
          "output_type": "execute_result",
          "data": {
            "text/plain": [
              "0.7177087888062964"
            ]
          },
          "metadata": {
            "tags": []
          },
          "execution_count": 108
        }
      ]
    }
  ]
}