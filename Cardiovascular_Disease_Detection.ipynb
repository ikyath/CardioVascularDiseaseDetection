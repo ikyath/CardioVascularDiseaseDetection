{
  "nbformat": 4,
  "nbformat_minor": 0,
  "metadata": {
    "colab": {
      "name": "Cardiovascular Disease Detection.ipynb",
      "provenance": [],
      "collapsed_sections": [],
      "toc_visible": true,
      "mount_file_id": "https://github.com/ikyath/CardioVascularDiseaseDetection/blob/master/Cardiovascular_Disease_Detection.ipynb",
      "authorship_tag": "ABX9TyO1pIXnqsJbnL5eblidBVkH",
      "include_colab_link": true
    },
    "kernelspec": {
      "name": "python3",
      "display_name": "Python 3"
    }
  },
  "cells": [
    {
      "cell_type": "markdown",
      "metadata": {
        "id": "view-in-github",
        "colab_type": "text"
      },
      "source": [
        "<a href=\"https://colab.research.google.com/github/ikyath/CardioVascularDiseaseDetection/blob/master/Cardiovascular_Disease_Detection.ipynb\" target=\"_parent\"><img src=\"https://colab.research.google.com/assets/colab-badge.svg\" alt=\"Open In Colab\"/></a>"
      ]
    },
    {
      "cell_type": "code",
      "metadata": {
        "id": "1ZJx3BKuFyWx",
        "colab_type": "code",
        "outputId": "44faee56-5da5-45fa-82d6-de662c982b32",
        "colab": {
          "base_uri": "https://localhost:8080/",
          "height": 34
        }
      },
      "source": [
        "pwd\n"
      ],
      "execution_count": 1,
      "outputs": [
        {
          "output_type": "execute_result",
          "data": {
            "text/plain": [
              "'/content'"
            ]
          },
          "metadata": {
            "tags": []
          },
          "execution_count": 1
        }
      ]
    },
    {
      "cell_type": "code",
      "metadata": {
        "id": "USt6qYAlHISr",
        "colab_type": "code",
        "outputId": "2949913b-0399-40cb-ebc2-de42eb126d31",
        "colab": {
          "base_uri": "https://localhost:8080/",
          "height": 34
        }
      },
      "source": [
        "ls"
      ],
      "execution_count": 2,
      "outputs": [
        {
          "output_type": "stream",
          "text": [
            "\u001b[0m\u001b[01;34mdrive\u001b[0m/  \u001b[01;34msample_data\u001b[0m/\n"
          ],
          "name": "stdout"
        }
      ]
    },
    {
      "cell_type": "code",
      "metadata": {
        "id": "UvtFKSvHG5Ji",
        "colab_type": "code",
        "outputId": "fdd1896c-bc5f-49e0-81c3-df28143f5ead",
        "colab": {
          "base_uri": "https://localhost:8080/",
          "height": 34
        }
      },
      "source": [
        "cd /content/drive/My\\ Drive/Data\\ Science/Hackathon"
      ],
      "execution_count": 3,
      "outputs": [
        {
          "output_type": "stream",
          "text": [
            "/content/drive/My Drive/Data Science/Hackathon\n"
          ],
          "name": "stdout"
        }
      ]
    },
    {
      "cell_type": "markdown",
      "metadata": {
        "id": "c7xW4-5mhAWm",
        "colab_type": "text"
      },
      "source": [
        "Import necessary libraries"
      ]
    },
    {
      "cell_type": "code",
      "metadata": {
        "id": "AobMORvnHn08",
        "colab_type": "code",
        "colab": {}
      },
      "source": [
        "import pandas as pd\n",
        "import statsmodels.api as sm\n",
        "from sklearn.preprocessing import StandardScaler\n",
        "from sklearn.model_selection import train_test_split\n",
        "from sklearn import metrics\n",
        "import matplotlib.pyplot as plt\n",
        "%matplotlib inline\n",
        "import seaborn as sns\n",
        "from sklearn.linear_model import LogisticRegression\n",
        "from sklearn.metrics import accuracy_score,confusion_matrix\n",
        "from xgboost import XGBClassifier\n",
        "import pickle\n",
        "\n"
      ],
      "execution_count": 0,
      "outputs": []
    },
    {
      "cell_type": "markdown",
      "metadata": {
        "id": "D3YkqoinhM1m",
        "colab_type": "text"
      },
      "source": [
        "## EDA"
      ]
    },
    {
      "cell_type": "code",
      "metadata": {
        "id": "QAieFhZ6HD6D",
        "colab_type": "code",
        "colab": {}
      },
      "source": [
        "train = pd.read_csv('cardio_train.csv',sep=';')"
      ],
      "execution_count": 0,
      "outputs": []
    },
    {
      "cell_type": "code",
      "metadata": {
        "id": "CpIG6gyNHmmN",
        "colab_type": "code",
        "outputId": "f1f4b81b-4cfc-46eb-8cef-4926a30974f2",
        "colab": {
          "base_uri": "https://localhost:8080/",
          "height": 204
        }
      },
      "source": [
        "train.head()"
      ],
      "execution_count": 6,
      "outputs": [
        {
          "output_type": "execute_result",
          "data": {
            "text/html": [
              "<div>\n",
              "<style scoped>\n",
              "    .dataframe tbody tr th:only-of-type {\n",
              "        vertical-align: middle;\n",
              "    }\n",
              "\n",
              "    .dataframe tbody tr th {\n",
              "        vertical-align: top;\n",
              "    }\n",
              "\n",
              "    .dataframe thead th {\n",
              "        text-align: right;\n",
              "    }\n",
              "</style>\n",
              "<table border=\"1\" class=\"dataframe\">\n",
              "  <thead>\n",
              "    <tr style=\"text-align: right;\">\n",
              "      <th></th>\n",
              "      <th>id</th>\n",
              "      <th>age</th>\n",
              "      <th>gender</th>\n",
              "      <th>height</th>\n",
              "      <th>weight</th>\n",
              "      <th>ap_hi</th>\n",
              "      <th>ap_lo</th>\n",
              "      <th>cholesterol</th>\n",
              "      <th>gluc</th>\n",
              "      <th>smoke</th>\n",
              "      <th>alco</th>\n",
              "      <th>active</th>\n",
              "      <th>cardio</th>\n",
              "    </tr>\n",
              "  </thead>\n",
              "  <tbody>\n",
              "    <tr>\n",
              "      <th>0</th>\n",
              "      <td>988</td>\n",
              "      <td>22469</td>\n",
              "      <td>1</td>\n",
              "      <td>155</td>\n",
              "      <td>69.0</td>\n",
              "      <td>130</td>\n",
              "      <td>80</td>\n",
              "      <td>2</td>\n",
              "      <td>2</td>\n",
              "      <td>0</td>\n",
              "      <td>0</td>\n",
              "      <td>1</td>\n",
              "      <td>0</td>\n",
              "    </tr>\n",
              "    <tr>\n",
              "      <th>1</th>\n",
              "      <td>989</td>\n",
              "      <td>14648</td>\n",
              "      <td>1</td>\n",
              "      <td>163</td>\n",
              "      <td>71.0</td>\n",
              "      <td>110</td>\n",
              "      <td>70</td>\n",
              "      <td>1</td>\n",
              "      <td>1</td>\n",
              "      <td>0</td>\n",
              "      <td>0</td>\n",
              "      <td>1</td>\n",
              "      <td>1</td>\n",
              "    </tr>\n",
              "    <tr>\n",
              "      <th>2</th>\n",
              "      <td>990</td>\n",
              "      <td>21901</td>\n",
              "      <td>1</td>\n",
              "      <td>165</td>\n",
              "      <td>70.0</td>\n",
              "      <td>120</td>\n",
              "      <td>80</td>\n",
              "      <td>1</td>\n",
              "      <td>1</td>\n",
              "      <td>0</td>\n",
              "      <td>0</td>\n",
              "      <td>1</td>\n",
              "      <td>0</td>\n",
              "    </tr>\n",
              "    <tr>\n",
              "      <th>3</th>\n",
              "      <td>991</td>\n",
              "      <td>14549</td>\n",
              "      <td>2</td>\n",
              "      <td>165</td>\n",
              "      <td>85.0</td>\n",
              "      <td>120</td>\n",
              "      <td>80</td>\n",
              "      <td>1</td>\n",
              "      <td>1</td>\n",
              "      <td>1</td>\n",
              "      <td>1</td>\n",
              "      <td>1</td>\n",
              "      <td>0</td>\n",
              "    </tr>\n",
              "    <tr>\n",
              "      <th>4</th>\n",
              "      <td>992</td>\n",
              "      <td>23393</td>\n",
              "      <td>1</td>\n",
              "      <td>155</td>\n",
              "      <td>62.0</td>\n",
              "      <td>120</td>\n",
              "      <td>80</td>\n",
              "      <td>1</td>\n",
              "      <td>1</td>\n",
              "      <td>0</td>\n",
              "      <td>0</td>\n",
              "      <td>1</td>\n",
              "      <td>0</td>\n",
              "    </tr>\n",
              "  </tbody>\n",
              "</table>\n",
              "</div>"
            ],
            "text/plain": [
              "    id    age  gender  height  weight  ...  gluc  smoke  alco  active  cardio\n",
              "0  988  22469       1     155    69.0  ...     2      0     0       1       0\n",
              "1  989  14648       1     163    71.0  ...     1      0     0       1       1\n",
              "2  990  21901       1     165    70.0  ...     1      0     0       1       0\n",
              "3  991  14549       2     165    85.0  ...     1      1     1       1       0\n",
              "4  992  23393       1     155    62.0  ...     1      0     0       1       0\n",
              "\n",
              "[5 rows x 13 columns]"
            ]
          },
          "metadata": {
            "tags": []
          },
          "execution_count": 6
        }
      ]
    },
    {
      "cell_type": "markdown",
      "metadata": {
        "id": "9r5-9P4KmkR9",
        "colab_type": "text"
      },
      "source": [
        "We will drop id column as it is insignificant "
      ]
    },
    {
      "cell_type": "code",
      "metadata": {
        "id": "Acb-TEyJmqpt",
        "colab_type": "code",
        "colab": {}
      },
      "source": [
        "train = train.drop('id',axis=1)"
      ],
      "execution_count": 0,
      "outputs": []
    },
    {
      "cell_type": "code",
      "metadata": {
        "id": "5qmtttwFHr9x",
        "colab_type": "code",
        "outputId": "2b26b91a-442a-47f2-daf1-d36339117376",
        "colab": {
          "base_uri": "https://localhost:8080/",
          "height": 34
        }
      },
      "source": [
        "train.shape"
      ],
      "execution_count": 8,
      "outputs": [
        {
          "output_type": "execute_result",
          "data": {
            "text/plain": [
              "(69301, 12)"
            ]
          },
          "metadata": {
            "tags": []
          },
          "execution_count": 8
        }
      ]
    },
    {
      "cell_type": "code",
      "metadata": {
        "id": "bVbCCAPamz_q",
        "colab_type": "code",
        "outputId": "3549aaca-45ee-411c-f9f0-c36d5b6339fd",
        "colab": {
          "base_uri": "https://localhost:8080/",
          "height": 204
        }
      },
      "source": [
        "train.tail()"
      ],
      "execution_count": 9,
      "outputs": [
        {
          "output_type": "execute_result",
          "data": {
            "text/html": [
              "<div>\n",
              "<style scoped>\n",
              "    .dataframe tbody tr th:only-of-type {\n",
              "        vertical-align: middle;\n",
              "    }\n",
              "\n",
              "    .dataframe tbody tr th {\n",
              "        vertical-align: top;\n",
              "    }\n",
              "\n",
              "    .dataframe thead th {\n",
              "        text-align: right;\n",
              "    }\n",
              "</style>\n",
              "<table border=\"1\" class=\"dataframe\">\n",
              "  <thead>\n",
              "    <tr style=\"text-align: right;\">\n",
              "      <th></th>\n",
              "      <th>age</th>\n",
              "      <th>gender</th>\n",
              "      <th>height</th>\n",
              "      <th>weight</th>\n",
              "      <th>ap_hi</th>\n",
              "      <th>ap_lo</th>\n",
              "      <th>cholesterol</th>\n",
              "      <th>gluc</th>\n",
              "      <th>smoke</th>\n",
              "      <th>alco</th>\n",
              "      <th>active</th>\n",
              "      <th>cardio</th>\n",
              "    </tr>\n",
              "  </thead>\n",
              "  <tbody>\n",
              "    <tr>\n",
              "      <th>69296</th>\n",
              "      <td>19240</td>\n",
              "      <td>2</td>\n",
              "      <td>168</td>\n",
              "      <td>76.0</td>\n",
              "      <td>120</td>\n",
              "      <td>80</td>\n",
              "      <td>1</td>\n",
              "      <td>1</td>\n",
              "      <td>1</td>\n",
              "      <td>0</td>\n",
              "      <td>1</td>\n",
              "      <td>0</td>\n",
              "    </tr>\n",
              "    <tr>\n",
              "      <th>69297</th>\n",
              "      <td>22601</td>\n",
              "      <td>1</td>\n",
              "      <td>158</td>\n",
              "      <td>126.0</td>\n",
              "      <td>140</td>\n",
              "      <td>90</td>\n",
              "      <td>2</td>\n",
              "      <td>2</td>\n",
              "      <td>0</td>\n",
              "      <td>0</td>\n",
              "      <td>1</td>\n",
              "      <td>1</td>\n",
              "    </tr>\n",
              "    <tr>\n",
              "      <th>69298</th>\n",
              "      <td>19066</td>\n",
              "      <td>2</td>\n",
              "      <td>183</td>\n",
              "      <td>105.0</td>\n",
              "      <td>180</td>\n",
              "      <td>90</td>\n",
              "      <td>3</td>\n",
              "      <td>1</td>\n",
              "      <td>0</td>\n",
              "      <td>1</td>\n",
              "      <td>0</td>\n",
              "      <td>1</td>\n",
              "    </tr>\n",
              "    <tr>\n",
              "      <th>69299</th>\n",
              "      <td>22431</td>\n",
              "      <td>1</td>\n",
              "      <td>163</td>\n",
              "      <td>72.0</td>\n",
              "      <td>135</td>\n",
              "      <td>80</td>\n",
              "      <td>1</td>\n",
              "      <td>2</td>\n",
              "      <td>0</td>\n",
              "      <td>0</td>\n",
              "      <td>0</td>\n",
              "      <td>1</td>\n",
              "    </tr>\n",
              "    <tr>\n",
              "      <th>69300</th>\n",
              "      <td>20540</td>\n",
              "      <td>1</td>\n",
              "      <td>170</td>\n",
              "      <td>72.0</td>\n",
              "      <td>120</td>\n",
              "      <td>80</td>\n",
              "      <td>2</td>\n",
              "      <td>1</td>\n",
              "      <td>0</td>\n",
              "      <td>0</td>\n",
              "      <td>1</td>\n",
              "      <td>0</td>\n",
              "    </tr>\n",
              "  </tbody>\n",
              "</table>\n",
              "</div>"
            ],
            "text/plain": [
              "         age  gender  height  weight  ap_hi  ...  gluc  smoke  alco  active  cardio\n",
              "69296  19240       2     168    76.0    120  ...     1      1     0       1       0\n",
              "69297  22601       1     158   126.0    140  ...     2      0     0       1       1\n",
              "69298  19066       2     183   105.0    180  ...     1      0     1       0       1\n",
              "69299  22431       1     163    72.0    135  ...     2      0     0       0       1\n",
              "69300  20540       1     170    72.0    120  ...     1      0     0       1       0\n",
              "\n",
              "[5 rows x 12 columns]"
            ]
          },
          "metadata": {
            "tags": []
          },
          "execution_count": 9
        }
      ]
    },
    {
      "cell_type": "markdown",
      "metadata": {
        "id": "duNN2-v_hSMg",
        "colab_type": "text"
      },
      "source": [
        "There are total 69301 records of data with 12 features"
      ]
    },
    {
      "cell_type": "markdown",
      "metadata": {
        "id": "Q4069-6-hdL3",
        "colab_type": "text"
      },
      "source": [
        "Lets look into datatypes of each column"
      ]
    },
    {
      "cell_type": "code",
      "metadata": {
        "id": "LYp7lpsvHzVf",
        "colab_type": "code",
        "outputId": "ca7dbe77-b6bb-41db-c694-556f80a1f8c0",
        "colab": {
          "base_uri": "https://localhost:8080/",
          "height": 379
        }
      },
      "source": [
        "train.describe(percentiles=[0.01,.10,.50,.80,0.99])"
      ],
      "execution_count": 10,
      "outputs": [
        {
          "output_type": "execute_result",
          "data": {
            "text/html": [
              "<div>\n",
              "<style scoped>\n",
              "    .dataframe tbody tr th:only-of-type {\n",
              "        vertical-align: middle;\n",
              "    }\n",
              "\n",
              "    .dataframe tbody tr th {\n",
              "        vertical-align: top;\n",
              "    }\n",
              "\n",
              "    .dataframe thead th {\n",
              "        text-align: right;\n",
              "    }\n",
              "</style>\n",
              "<table border=\"1\" class=\"dataframe\">\n",
              "  <thead>\n",
              "    <tr style=\"text-align: right;\">\n",
              "      <th></th>\n",
              "      <th>age</th>\n",
              "      <th>gender</th>\n",
              "      <th>height</th>\n",
              "      <th>weight</th>\n",
              "      <th>ap_hi</th>\n",
              "      <th>ap_lo</th>\n",
              "      <th>cholesterol</th>\n",
              "      <th>gluc</th>\n",
              "      <th>smoke</th>\n",
              "      <th>alco</th>\n",
              "      <th>active</th>\n",
              "      <th>cardio</th>\n",
              "    </tr>\n",
              "  </thead>\n",
              "  <tbody>\n",
              "    <tr>\n",
              "      <th>count</th>\n",
              "      <td>69301.000000</td>\n",
              "      <td>69301.000000</td>\n",
              "      <td>69301.000000</td>\n",
              "      <td>69301.000000</td>\n",
              "      <td>69301.000000</td>\n",
              "      <td>69301.000000</td>\n",
              "      <td>69301.000000</td>\n",
              "      <td>69301.000000</td>\n",
              "      <td>69301.000000</td>\n",
              "      <td>69301.000000</td>\n",
              "      <td>69301.000000</td>\n",
              "      <td>69301.000000</td>\n",
              "    </tr>\n",
              "    <tr>\n",
              "      <th>mean</th>\n",
              "      <td>19468.786280</td>\n",
              "      <td>1.349519</td>\n",
              "      <td>164.362217</td>\n",
              "      <td>74.203027</td>\n",
              "      <td>128.829584</td>\n",
              "      <td>96.650092</td>\n",
              "      <td>1.366806</td>\n",
              "      <td>1.226447</td>\n",
              "      <td>0.088051</td>\n",
              "      <td>0.053881</td>\n",
              "      <td>0.803986</td>\n",
              "      <td>0.499589</td>\n",
              "    </tr>\n",
              "    <tr>\n",
              "      <th>std</th>\n",
              "      <td>2467.261818</td>\n",
              "      <td>0.476821</td>\n",
              "      <td>8.205337</td>\n",
              "      <td>14.383469</td>\n",
              "      <td>154.775805</td>\n",
              "      <td>189.096240</td>\n",
              "      <td>0.680270</td>\n",
              "      <td>0.572246</td>\n",
              "      <td>0.283371</td>\n",
              "      <td>0.225784</td>\n",
              "      <td>0.396982</td>\n",
              "      <td>0.500003</td>\n",
              "    </tr>\n",
              "    <tr>\n",
              "      <th>min</th>\n",
              "      <td>10798.000000</td>\n",
              "      <td>1.000000</td>\n",
              "      <td>55.000000</td>\n",
              "      <td>10.000000</td>\n",
              "      <td>-150.000000</td>\n",
              "      <td>-70.000000</td>\n",
              "      <td>1.000000</td>\n",
              "      <td>1.000000</td>\n",
              "      <td>0.000000</td>\n",
              "      <td>0.000000</td>\n",
              "      <td>0.000000</td>\n",
              "      <td>0.000000</td>\n",
              "    </tr>\n",
              "    <tr>\n",
              "      <th>1%</th>\n",
              "      <td>14466.000000</td>\n",
              "      <td>1.000000</td>\n",
              "      <td>147.000000</td>\n",
              "      <td>48.000000</td>\n",
              "      <td>90.000000</td>\n",
              "      <td>60.000000</td>\n",
              "      <td>1.000000</td>\n",
              "      <td>1.000000</td>\n",
              "      <td>0.000000</td>\n",
              "      <td>0.000000</td>\n",
              "      <td>0.000000</td>\n",
              "      <td>0.000000</td>\n",
              "    </tr>\n",
              "    <tr>\n",
              "      <th>10%</th>\n",
              "      <td>15839.000000</td>\n",
              "      <td>1.000000</td>\n",
              "      <td>155.000000</td>\n",
              "      <td>58.000000</td>\n",
              "      <td>110.000000</td>\n",
              "      <td>70.000000</td>\n",
              "      <td>1.000000</td>\n",
              "      <td>1.000000</td>\n",
              "      <td>0.000000</td>\n",
              "      <td>0.000000</td>\n",
              "      <td>0.000000</td>\n",
              "      <td>0.000000</td>\n",
              "    </tr>\n",
              "    <tr>\n",
              "      <th>50%</th>\n",
              "      <td>19704.000000</td>\n",
              "      <td>1.000000</td>\n",
              "      <td>165.000000</td>\n",
              "      <td>72.000000</td>\n",
              "      <td>120.000000</td>\n",
              "      <td>80.000000</td>\n",
              "      <td>1.000000</td>\n",
              "      <td>1.000000</td>\n",
              "      <td>0.000000</td>\n",
              "      <td>0.000000</td>\n",
              "      <td>1.000000</td>\n",
              "      <td>0.000000</td>\n",
              "    </tr>\n",
              "    <tr>\n",
              "      <th>80%</th>\n",
              "      <td>21849.000000</td>\n",
              "      <td>2.000000</td>\n",
              "      <td>170.000000</td>\n",
              "      <td>85.000000</td>\n",
              "      <td>140.000000</td>\n",
              "      <td>90.000000</td>\n",
              "      <td>2.000000</td>\n",
              "      <td>1.000000</td>\n",
              "      <td>0.000000</td>\n",
              "      <td>0.000000</td>\n",
              "      <td>1.000000</td>\n",
              "      <td>1.000000</td>\n",
              "    </tr>\n",
              "    <tr>\n",
              "      <th>99%</th>\n",
              "      <td>23489.000000</td>\n",
              "      <td>2.000000</td>\n",
              "      <td>184.000000</td>\n",
              "      <td>117.000000</td>\n",
              "      <td>180.000000</td>\n",
              "      <td>1000.000000</td>\n",
              "      <td>3.000000</td>\n",
              "      <td>3.000000</td>\n",
              "      <td>1.000000</td>\n",
              "      <td>1.000000</td>\n",
              "      <td>1.000000</td>\n",
              "      <td>1.000000</td>\n",
              "    </tr>\n",
              "    <tr>\n",
              "      <th>max</th>\n",
              "      <td>23713.000000</td>\n",
              "      <td>2.000000</td>\n",
              "      <td>250.000000</td>\n",
              "      <td>200.000000</td>\n",
              "      <td>16020.000000</td>\n",
              "      <td>11000.000000</td>\n",
              "      <td>3.000000</td>\n",
              "      <td>3.000000</td>\n",
              "      <td>1.000000</td>\n",
              "      <td>1.000000</td>\n",
              "      <td>1.000000</td>\n",
              "      <td>1.000000</td>\n",
              "    </tr>\n",
              "  </tbody>\n",
              "</table>\n",
              "</div>"
            ],
            "text/plain": [
              "                age        gender  ...        active        cardio\n",
              "count  69301.000000  69301.000000  ...  69301.000000  69301.000000\n",
              "mean   19468.786280      1.349519  ...      0.803986      0.499589\n",
              "std     2467.261818      0.476821  ...      0.396982      0.500003\n",
              "min    10798.000000      1.000000  ...      0.000000      0.000000\n",
              "1%     14466.000000      1.000000  ...      0.000000      0.000000\n",
              "10%    15839.000000      1.000000  ...      0.000000      0.000000\n",
              "50%    19704.000000      1.000000  ...      1.000000      0.000000\n",
              "80%    21849.000000      2.000000  ...      1.000000      1.000000\n",
              "99%    23489.000000      2.000000  ...      1.000000      1.000000\n",
              "max    23713.000000      2.000000  ...      1.000000      1.000000\n",
              "\n",
              "[10 rows x 12 columns]"
            ]
          },
          "metadata": {
            "tags": []
          },
          "execution_count": 10
        }
      ]
    },
    {
      "cell_type": "markdown",
      "metadata": {
        "id": "avfeGTi0ofhA",
        "colab_type": "text"
      },
      "source": [
        "From the above data we can see the outliers lie are in less than 1%"
      ]
    },
    {
      "cell_type": "markdown",
      "metadata": {
        "id": "1Q4Par1Vopbc",
        "colab_type": "text"
      },
      "source": [
        "Lets try to build a model without outliers"
      ]
    },
    {
      "cell_type": "code",
      "metadata": {
        "id": "9OQC0wACo3_E",
        "colab_type": "code",
        "colab": {}
      },
      "source": [
        "train = train.drop(train[(train.height<147) | (train.height>184)].index)\n",
        "train = train.drop(train[(train.weight<48) | (train.weight>117)].index)"
      ],
      "execution_count": 0,
      "outputs": []
    },
    {
      "cell_type": "markdown",
      "metadata": {
        "id": "xtmNz60xnR34",
        "colab_type": "text"
      },
      "source": [
        "Lets see outliers more clearly"
      ]
    },
    {
      "cell_type": "markdown",
      "metadata": {
        "id": "RIuLXL26jH5g",
        "colab_type": "text"
      },
      "source": [
        "Lets check for duplicate records"
      ]
    },
    {
      "cell_type": "code",
      "metadata": {
        "id": "3ynscPViiYK0",
        "colab_type": "code",
        "outputId": "8f274980-8cd5-48d3-cd3e-fe2e7d0c0f60",
        "colab": {
          "base_uri": "https://localhost:8080/",
          "height": 34
        }
      },
      "source": [
        "train.duplicated().sum()"
      ],
      "execution_count": 12,
      "outputs": [
        {
          "output_type": "execute_result",
          "data": {
            "text/plain": [
              "24"
            ]
          },
          "metadata": {
            "tags": []
          },
          "execution_count": 12
        }
      ]
    },
    {
      "cell_type": "markdown",
      "metadata": {
        "id": "WhikVHrendym",
        "colab_type": "text"
      },
      "source": [
        "Lets remove duplicated rows"
      ]
    },
    {
      "cell_type": "code",
      "metadata": {
        "id": "Fq_Ag8mZnhw5",
        "colab_type": "code",
        "outputId": "5c2ec812-dfbc-4d67-c9c3-39c41db9d3ab",
        "colab": {
          "base_uri": "https://localhost:8080/",
          "height": 34
        }
      },
      "source": [
        "train.drop_duplicates(inplace=True)\n",
        "print(train.shape)"
      ],
      "execution_count": 13,
      "outputs": [
        {
          "output_type": "stream",
          "text": [
            "(66823, 12)\n"
          ],
          "name": "stdout"
        }
      ]
    },
    {
      "cell_type": "code",
      "metadata": {
        "id": "TBkzB6W-JrPM",
        "colab_type": "code",
        "outputId": "2739dee8-f425-446d-f8dc-ef49dbd71d79",
        "colab": {
          "base_uri": "https://localhost:8080/",
          "height": 204
        }
      },
      "source": [
        "train.head()"
      ],
      "execution_count": 14,
      "outputs": [
        {
          "output_type": "execute_result",
          "data": {
            "text/html": [
              "<div>\n",
              "<style scoped>\n",
              "    .dataframe tbody tr th:only-of-type {\n",
              "        vertical-align: middle;\n",
              "    }\n",
              "\n",
              "    .dataframe tbody tr th {\n",
              "        vertical-align: top;\n",
              "    }\n",
              "\n",
              "    .dataframe thead th {\n",
              "        text-align: right;\n",
              "    }\n",
              "</style>\n",
              "<table border=\"1\" class=\"dataframe\">\n",
              "  <thead>\n",
              "    <tr style=\"text-align: right;\">\n",
              "      <th></th>\n",
              "      <th>age</th>\n",
              "      <th>gender</th>\n",
              "      <th>height</th>\n",
              "      <th>weight</th>\n",
              "      <th>ap_hi</th>\n",
              "      <th>ap_lo</th>\n",
              "      <th>cholesterol</th>\n",
              "      <th>gluc</th>\n",
              "      <th>smoke</th>\n",
              "      <th>alco</th>\n",
              "      <th>active</th>\n",
              "      <th>cardio</th>\n",
              "    </tr>\n",
              "  </thead>\n",
              "  <tbody>\n",
              "    <tr>\n",
              "      <th>0</th>\n",
              "      <td>22469</td>\n",
              "      <td>1</td>\n",
              "      <td>155</td>\n",
              "      <td>69.0</td>\n",
              "      <td>130</td>\n",
              "      <td>80</td>\n",
              "      <td>2</td>\n",
              "      <td>2</td>\n",
              "      <td>0</td>\n",
              "      <td>0</td>\n",
              "      <td>1</td>\n",
              "      <td>0</td>\n",
              "    </tr>\n",
              "    <tr>\n",
              "      <th>1</th>\n",
              "      <td>14648</td>\n",
              "      <td>1</td>\n",
              "      <td>163</td>\n",
              "      <td>71.0</td>\n",
              "      <td>110</td>\n",
              "      <td>70</td>\n",
              "      <td>1</td>\n",
              "      <td>1</td>\n",
              "      <td>0</td>\n",
              "      <td>0</td>\n",
              "      <td>1</td>\n",
              "      <td>1</td>\n",
              "    </tr>\n",
              "    <tr>\n",
              "      <th>2</th>\n",
              "      <td>21901</td>\n",
              "      <td>1</td>\n",
              "      <td>165</td>\n",
              "      <td>70.0</td>\n",
              "      <td>120</td>\n",
              "      <td>80</td>\n",
              "      <td>1</td>\n",
              "      <td>1</td>\n",
              "      <td>0</td>\n",
              "      <td>0</td>\n",
              "      <td>1</td>\n",
              "      <td>0</td>\n",
              "    </tr>\n",
              "    <tr>\n",
              "      <th>3</th>\n",
              "      <td>14549</td>\n",
              "      <td>2</td>\n",
              "      <td>165</td>\n",
              "      <td>85.0</td>\n",
              "      <td>120</td>\n",
              "      <td>80</td>\n",
              "      <td>1</td>\n",
              "      <td>1</td>\n",
              "      <td>1</td>\n",
              "      <td>1</td>\n",
              "      <td>1</td>\n",
              "      <td>0</td>\n",
              "    </tr>\n",
              "    <tr>\n",
              "      <th>4</th>\n",
              "      <td>23393</td>\n",
              "      <td>1</td>\n",
              "      <td>155</td>\n",
              "      <td>62.0</td>\n",
              "      <td>120</td>\n",
              "      <td>80</td>\n",
              "      <td>1</td>\n",
              "      <td>1</td>\n",
              "      <td>0</td>\n",
              "      <td>0</td>\n",
              "      <td>1</td>\n",
              "      <td>0</td>\n",
              "    </tr>\n",
              "  </tbody>\n",
              "</table>\n",
              "</div>"
            ],
            "text/plain": [
              "     age  gender  height  weight  ap_hi  ...  gluc  smoke  alco  active  cardio\n",
              "0  22469       1     155    69.0    130  ...     2      0     0       1       0\n",
              "1  14648       1     163    71.0    110  ...     1      0     0       1       1\n",
              "2  21901       1     165    70.0    120  ...     1      0     0       1       0\n",
              "3  14549       2     165    85.0    120  ...     1      1     1       1       0\n",
              "4  23393       1     155    62.0    120  ...     1      0     0       1       0\n",
              "\n",
              "[5 rows x 12 columns]"
            ]
          },
          "metadata": {
            "tags": []
          },
          "execution_count": 14
        }
      ]
    },
    {
      "cell_type": "markdown",
      "metadata": {
        "id": "te7Qef1iJ9Yz",
        "colab_type": "text"
      },
      "source": [
        " Number of Patients"
      ]
    },
    {
      "cell_type": "code",
      "metadata": {
        "id": "PA0UXq0WJscz",
        "colab_type": "code",
        "outputId": "3f631932-3ed2-48f7-bee3-09b6958a0f89",
        "colab": {
          "base_uri": "https://localhost:8080/",
          "height": 34
        }
      },
      "source": [
        "train.shape[0]"
      ],
      "execution_count": 15,
      "outputs": [
        {
          "output_type": "execute_result",
          "data": {
            "text/plain": [
              "66823"
            ]
          },
          "metadata": {
            "tags": []
          },
          "execution_count": 15
        }
      ]
    },
    {
      "cell_type": "markdown",
      "metadata": {
        "id": "Qmh_XfNDrPoo",
        "colab_type": "text"
      },
      "source": [
        "Lets convert age from days to years apxt"
      ]
    },
    {
      "cell_type": "code",
      "metadata": {
        "id": "c4PfuxJrrOyT",
        "colab_type": "code",
        "colab": {}
      },
      "source": [
        "train.age = train.age.apply(lambda x:x/365)"
      ],
      "execution_count": 0,
      "outputs": []
    },
    {
      "cell_type": "code",
      "metadata": {
        "id": "RwDZ9eSprXqz",
        "colab_type": "code",
        "outputId": "39585462-7de4-4bcc-aea8-df21bb731861",
        "colab": {
          "base_uri": "https://localhost:8080/",
          "height": 204
        }
      },
      "source": [
        "train.head()"
      ],
      "execution_count": 17,
      "outputs": [
        {
          "output_type": "execute_result",
          "data": {
            "text/html": [
              "<div>\n",
              "<style scoped>\n",
              "    .dataframe tbody tr th:only-of-type {\n",
              "        vertical-align: middle;\n",
              "    }\n",
              "\n",
              "    .dataframe tbody tr th {\n",
              "        vertical-align: top;\n",
              "    }\n",
              "\n",
              "    .dataframe thead th {\n",
              "        text-align: right;\n",
              "    }\n",
              "</style>\n",
              "<table border=\"1\" class=\"dataframe\">\n",
              "  <thead>\n",
              "    <tr style=\"text-align: right;\">\n",
              "      <th></th>\n",
              "      <th>age</th>\n",
              "      <th>gender</th>\n",
              "      <th>height</th>\n",
              "      <th>weight</th>\n",
              "      <th>ap_hi</th>\n",
              "      <th>ap_lo</th>\n",
              "      <th>cholesterol</th>\n",
              "      <th>gluc</th>\n",
              "      <th>smoke</th>\n",
              "      <th>alco</th>\n",
              "      <th>active</th>\n",
              "      <th>cardio</th>\n",
              "    </tr>\n",
              "  </thead>\n",
              "  <tbody>\n",
              "    <tr>\n",
              "      <th>0</th>\n",
              "      <td>61.558904</td>\n",
              "      <td>1</td>\n",
              "      <td>155</td>\n",
              "      <td>69.0</td>\n",
              "      <td>130</td>\n",
              "      <td>80</td>\n",
              "      <td>2</td>\n",
              "      <td>2</td>\n",
              "      <td>0</td>\n",
              "      <td>0</td>\n",
              "      <td>1</td>\n",
              "      <td>0</td>\n",
              "    </tr>\n",
              "    <tr>\n",
              "      <th>1</th>\n",
              "      <td>40.131507</td>\n",
              "      <td>1</td>\n",
              "      <td>163</td>\n",
              "      <td>71.0</td>\n",
              "      <td>110</td>\n",
              "      <td>70</td>\n",
              "      <td>1</td>\n",
              "      <td>1</td>\n",
              "      <td>0</td>\n",
              "      <td>0</td>\n",
              "      <td>1</td>\n",
              "      <td>1</td>\n",
              "    </tr>\n",
              "    <tr>\n",
              "      <th>2</th>\n",
              "      <td>60.002740</td>\n",
              "      <td>1</td>\n",
              "      <td>165</td>\n",
              "      <td>70.0</td>\n",
              "      <td>120</td>\n",
              "      <td>80</td>\n",
              "      <td>1</td>\n",
              "      <td>1</td>\n",
              "      <td>0</td>\n",
              "      <td>0</td>\n",
              "      <td>1</td>\n",
              "      <td>0</td>\n",
              "    </tr>\n",
              "    <tr>\n",
              "      <th>3</th>\n",
              "      <td>39.860274</td>\n",
              "      <td>2</td>\n",
              "      <td>165</td>\n",
              "      <td>85.0</td>\n",
              "      <td>120</td>\n",
              "      <td>80</td>\n",
              "      <td>1</td>\n",
              "      <td>1</td>\n",
              "      <td>1</td>\n",
              "      <td>1</td>\n",
              "      <td>1</td>\n",
              "      <td>0</td>\n",
              "    </tr>\n",
              "    <tr>\n",
              "      <th>4</th>\n",
              "      <td>64.090411</td>\n",
              "      <td>1</td>\n",
              "      <td>155</td>\n",
              "      <td>62.0</td>\n",
              "      <td>120</td>\n",
              "      <td>80</td>\n",
              "      <td>1</td>\n",
              "      <td>1</td>\n",
              "      <td>0</td>\n",
              "      <td>0</td>\n",
              "      <td>1</td>\n",
              "      <td>0</td>\n",
              "    </tr>\n",
              "  </tbody>\n",
              "</table>\n",
              "</div>"
            ],
            "text/plain": [
              "         age  gender  height  weight  ap_hi  ...  gluc  smoke  alco  active  cardio\n",
              "0  61.558904       1     155    69.0    130  ...     2      0     0       1       0\n",
              "1  40.131507       1     163    71.0    110  ...     1      0     0       1       1\n",
              "2  60.002740       1     165    70.0    120  ...     1      0     0       1       0\n",
              "3  39.860274       2     165    85.0    120  ...     1      1     1       1       0\n",
              "4  64.090411       1     155    62.0    120  ...     1      0     0       1       0\n",
              "\n",
              "[5 rows x 12 columns]"
            ]
          },
          "metadata": {
            "tags": []
          },
          "execution_count": 17
        }
      ]
    },
    {
      "cell_type": "markdown",
      "metadata": {
        "id": "fty5CZK-Ki2B",
        "colab_type": "text"
      },
      "source": [
        " Check for any duplicate entries of patients based on id"
      ]
    },
    {
      "cell_type": "code",
      "metadata": {
        "id": "V91SUJukK4L9",
        "colab_type": "code",
        "outputId": "5e06b30f-5d09-4661-9a2e-a67d85dd75f6",
        "colab": {
          "base_uri": "https://localhost:8080/",
          "height": 85
        }
      },
      "source": [
        "train.gluc.value_counts()"
      ],
      "execution_count": 18,
      "outputs": [
        {
          "output_type": "execute_result",
          "data": {
            "text/plain": [
              "1    56865\n",
              "3     5064\n",
              "2     4894\n",
              "Name: gluc, dtype: int64"
            ]
          },
          "metadata": {
            "tags": []
          },
          "execution_count": 18
        }
      ]
    },
    {
      "cell_type": "code",
      "metadata": {
        "id": "Bs6dEZCKK_K_",
        "colab_type": "code",
        "outputId": "df625ac0-26e5-4c9c-c909-9287de20ef98",
        "colab": {
          "base_uri": "https://localhost:8080/",
          "height": 68
        }
      },
      "source": [
        "train.smoke.value_counts()"
      ],
      "execution_count": 19,
      "outputs": [
        {
          "output_type": "execute_result",
          "data": {
            "text/plain": [
              "0    60974\n",
              "1     5849\n",
              "Name: smoke, dtype: int64"
            ]
          },
          "metadata": {
            "tags": []
          },
          "execution_count": 19
        }
      ]
    },
    {
      "cell_type": "code",
      "metadata": {
        "id": "8iaYuoNrLFNG",
        "colab_type": "code",
        "outputId": "5f9a3b0b-f82f-483d-9689-7e0218b644b5",
        "colab": {
          "base_uri": "https://localhost:8080/",
          "height": 68
        }
      },
      "source": [
        "train.alco.value_counts()"
      ],
      "execution_count": 20,
      "outputs": [
        {
          "output_type": "execute_result",
          "data": {
            "text/plain": [
              "0    63246\n",
              "1     3577\n",
              "Name: alco, dtype: int64"
            ]
          },
          "metadata": {
            "tags": []
          },
          "execution_count": 20
        }
      ]
    },
    {
      "cell_type": "code",
      "metadata": {
        "id": "Dv4KPZALLJiU",
        "colab_type": "code",
        "outputId": "768f95b0-62e4-43f0-d507-4a9fd96bc6cd",
        "colab": {
          "base_uri": "https://localhost:8080/",
          "height": 68
        }
      },
      "source": [
        "train.active.value_counts()"
      ],
      "execution_count": 21,
      "outputs": [
        {
          "output_type": "execute_result",
          "data": {
            "text/plain": [
              "1    53751\n",
              "0    13072\n",
              "Name: active, dtype: int64"
            ]
          },
          "metadata": {
            "tags": []
          },
          "execution_count": 21
        }
      ]
    },
    {
      "cell_type": "markdown",
      "metadata": {
        "id": "BeTW_MhsLRPb",
        "colab_type": "text"
      },
      "source": [
        "The dataset to be classified as target variable is balanced."
      ]
    },
    {
      "cell_type": "code",
      "metadata": {
        "id": "wvmcZQkILNF2",
        "colab_type": "code",
        "outputId": "5e84f973-b163-4455-b503-c5228400ca85",
        "colab": {
          "base_uri": "https://localhost:8080/",
          "height": 68
        }
      },
      "source": [
        "train.cardio.value_counts()"
      ],
      "execution_count": 22,
      "outputs": [
        {
          "output_type": "execute_result",
          "data": {
            "text/plain": [
              "0    33481\n",
              "1    33342\n",
              "Name: cardio, dtype: int64"
            ]
          },
          "metadata": {
            "tags": []
          },
          "execution_count": 22
        }
      ]
    },
    {
      "cell_type": "code",
      "metadata": {
        "id": "JNisoiqsyJjg",
        "colab_type": "code",
        "colab": {}
      },
      "source": [
        "s_list = [\"age\", \"height\", \"weight\", \"ap_hi\", \"ap_lo\"]\n",
        "def standartization(x):\n",
        "    x_std = x.copy(deep=True)\n",
        "    for column in s_list:\n",
        "        x_std[column] = (x_std[column]-x_std[column].mean())/x_std[column].std()\n",
        "    return x_std \n",
        "train_std=standartization(train)\n",
        "train_std.head()\n",
        "train=train_std"
      ],
      "execution_count": 0,
      "outputs": []
    },
    {
      "cell_type": "code",
      "metadata": {
        "id": "YZgvdQ5Cymg6",
        "colab_type": "code",
        "outputId": "f362c776-82fe-46cf-c683-5c710218e4e2",
        "colab": {
          "base_uri": "https://localhost:8080/",
          "height": 204
        }
      },
      "source": [
        "train.head()"
      ],
      "execution_count": 24,
      "outputs": [
        {
          "output_type": "execute_result",
          "data": {
            "text/html": [
              "<div>\n",
              "<style scoped>\n",
              "    .dataframe tbody tr th:only-of-type {\n",
              "        vertical-align: middle;\n",
              "    }\n",
              "\n",
              "    .dataframe tbody tr th {\n",
              "        vertical-align: top;\n",
              "    }\n",
              "\n",
              "    .dataframe thead th {\n",
              "        text-align: right;\n",
              "    }\n",
              "</style>\n",
              "<table border=\"1\" class=\"dataframe\">\n",
              "  <thead>\n",
              "    <tr style=\"text-align: right;\">\n",
              "      <th></th>\n",
              "      <th>age</th>\n",
              "      <th>gender</th>\n",
              "      <th>height</th>\n",
              "      <th>weight</th>\n",
              "      <th>ap_hi</th>\n",
              "      <th>ap_lo</th>\n",
              "      <th>cholesterol</th>\n",
              "      <th>gluc</th>\n",
              "      <th>smoke</th>\n",
              "      <th>alco</th>\n",
              "      <th>active</th>\n",
              "      <th>cardio</th>\n",
              "    </tr>\n",
              "  </thead>\n",
              "  <tbody>\n",
              "    <tr>\n",
              "      <th>0</th>\n",
              "      <td>1.216151</td>\n",
              "      <td>1</td>\n",
              "      <td>-1.292653</td>\n",
              "      <td>-0.376981</td>\n",
              "      <td>0.007414</td>\n",
              "      <td>-0.087351</td>\n",
              "      <td>2</td>\n",
              "      <td>2</td>\n",
              "      <td>0</td>\n",
              "      <td>0</td>\n",
              "      <td>1</td>\n",
              "      <td>0</td>\n",
              "    </tr>\n",
              "    <tr>\n",
              "      <th>1</th>\n",
              "      <td>-1.959038</td>\n",
              "      <td>1</td>\n",
              "      <td>-0.199537</td>\n",
              "      <td>-0.222296</td>\n",
              "      <td>-0.119559</td>\n",
              "      <td>-0.140869</td>\n",
              "      <td>1</td>\n",
              "      <td>1</td>\n",
              "      <td>0</td>\n",
              "      <td>0</td>\n",
              "      <td>1</td>\n",
              "      <td>1</td>\n",
              "    </tr>\n",
              "    <tr>\n",
              "      <th>2</th>\n",
              "      <td>0.985553</td>\n",
              "      <td>1</td>\n",
              "      <td>0.073741</td>\n",
              "      <td>-0.299638</td>\n",
              "      <td>-0.056072</td>\n",
              "      <td>-0.087351</td>\n",
              "      <td>1</td>\n",
              "      <td>1</td>\n",
              "      <td>0</td>\n",
              "      <td>0</td>\n",
              "      <td>1</td>\n",
              "      <td>0</td>\n",
              "    </tr>\n",
              "    <tr>\n",
              "      <th>3</th>\n",
              "      <td>-1.999231</td>\n",
              "      <td>2</td>\n",
              "      <td>0.073741</td>\n",
              "      <td>0.860495</td>\n",
              "      <td>-0.056072</td>\n",
              "      <td>-0.087351</td>\n",
              "      <td>1</td>\n",
              "      <td>1</td>\n",
              "      <td>1</td>\n",
              "      <td>1</td>\n",
              "      <td>1</td>\n",
              "      <td>0</td>\n",
              "    </tr>\n",
              "    <tr>\n",
              "      <th>4</th>\n",
              "      <td>1.591279</td>\n",
              "      <td>1</td>\n",
              "      <td>-1.292653</td>\n",
              "      <td>-0.918376</td>\n",
              "      <td>-0.056072</td>\n",
              "      <td>-0.087351</td>\n",
              "      <td>1</td>\n",
              "      <td>1</td>\n",
              "      <td>0</td>\n",
              "      <td>0</td>\n",
              "      <td>1</td>\n",
              "      <td>0</td>\n",
              "    </tr>\n",
              "  </tbody>\n",
              "</table>\n",
              "</div>"
            ],
            "text/plain": [
              "        age  gender    height    weight  ...  smoke  alco  active  cardio\n",
              "0  1.216151       1 -1.292653 -0.376981  ...      0     0       1       0\n",
              "1 -1.959038       1 -0.199537 -0.222296  ...      0     0       1       1\n",
              "2  0.985553       1  0.073741 -0.299638  ...      0     0       1       0\n",
              "3 -1.999231       2  0.073741  0.860495  ...      1     1       1       0\n",
              "4  1.591279       1 -1.292653 -0.918376  ...      0     0       1       0\n",
              "\n",
              "[5 rows x 12 columns]"
            ]
          },
          "metadata": {
            "tags": []
          },
          "execution_count": 24
        }
      ]
    },
    {
      "cell_type": "code",
      "metadata": {
        "id": "nxasG06GvU9f",
        "colab_type": "code",
        "colab": {}
      },
      "source": [
        "features=[\"age\", \"height\", \"weight\",'ap_hi','ap_lo','smoke','alco','active','cholesterol','gluc']"
      ],
      "execution_count": 0,
      "outputs": []
    },
    {
      "cell_type": "code",
      "metadata": {
        "id": "cEer1X0nvk90",
        "colab_type": "code",
        "colab": {}
      },
      "source": [
        "features_vif=[\"age\", \"height\", \"weight\",'ap_hi','ap_lo','smoke','alco','active','cardio','cholesterol','gluc']"
      ],
      "execution_count": 0,
      "outputs": []
    },
    {
      "cell_type": "code",
      "metadata": {
        "id": "N4MBP5Z7L-pj",
        "colab_type": "code",
        "colab": {}
      },
      "source": [
        "# scaler = StandardScaler().fit(train[features])\n",
        "# df_rescaled = scaler.transform(train[features])\n",
        "\n",
        "X_train, X_test, y_train, y_test = train_test_split(train[features], train['cardio'], test_size=0.33, random_state=42)"
      ],
      "execution_count": 0,
      "outputs": []
    },
    {
      "cell_type": "code",
      "metadata": {
        "id": "wRaSIAeUL5Ua",
        "colab_type": "code",
        "colab": {}
      },
      "source": [
        "logml = sm.GLM(y_train,(sm.add_constant(X_train)),family = sm.families.Binomial())\n"
      ],
      "execution_count": 0,
      "outputs": []
    },
    {
      "cell_type": "code",
      "metadata": {
        "id": "E6YY6IQjwEsP",
        "colab_type": "code",
        "outputId": "4b852871-1f55-4005-f300-f77692722dcb",
        "colab": {
          "base_uri": "https://localhost:8080/",
          "height": 204
        }
      },
      "source": [
        "X_train.head()"
      ],
      "execution_count": 29,
      "outputs": [
        {
          "output_type": "execute_result",
          "data": {
            "text/html": [
              "<div>\n",
              "<style scoped>\n",
              "    .dataframe tbody tr th:only-of-type {\n",
              "        vertical-align: middle;\n",
              "    }\n",
              "\n",
              "    .dataframe tbody tr th {\n",
              "        vertical-align: top;\n",
              "    }\n",
              "\n",
              "    .dataframe thead th {\n",
              "        text-align: right;\n",
              "    }\n",
              "</style>\n",
              "<table border=\"1\" class=\"dataframe\">\n",
              "  <thead>\n",
              "    <tr style=\"text-align: right;\">\n",
              "      <th></th>\n",
              "      <th>age</th>\n",
              "      <th>height</th>\n",
              "      <th>weight</th>\n",
              "      <th>ap_hi</th>\n",
              "      <th>ap_lo</th>\n",
              "      <th>smoke</th>\n",
              "      <th>alco</th>\n",
              "      <th>active</th>\n",
              "      <th>cholesterol</th>\n",
              "      <th>gluc</th>\n",
              "    </tr>\n",
              "  </thead>\n",
              "  <tbody>\n",
              "    <tr>\n",
              "      <th>56510</th>\n",
              "      <td>-0.877095</td>\n",
              "      <td>1.850054</td>\n",
              "      <td>0.473784</td>\n",
              "      <td>-0.056072</td>\n",
              "      <td>-0.087351</td>\n",
              "      <td>0</td>\n",
              "      <td>0</td>\n",
              "      <td>1</td>\n",
              "      <td>1</td>\n",
              "      <td>1</td>\n",
              "    </tr>\n",
              "    <tr>\n",
              "      <th>38790</th>\n",
              "      <td>0.972156</td>\n",
              "      <td>0.620299</td>\n",
              "      <td>-0.454323</td>\n",
              "      <td>0.070901</td>\n",
              "      <td>-0.033833</td>\n",
              "      <td>0</td>\n",
              "      <td>0</td>\n",
              "      <td>0</td>\n",
              "      <td>1</td>\n",
              "      <td>1</td>\n",
              "    </tr>\n",
              "    <tr>\n",
              "      <th>54598</th>\n",
              "      <td>-1.373206</td>\n",
              "      <td>0.483660</td>\n",
              "      <td>1.865944</td>\n",
              "      <td>0.070901</td>\n",
              "      <td>-0.033833</td>\n",
              "      <td>0</td>\n",
              "      <td>0</td>\n",
              "      <td>1</td>\n",
              "      <td>1</td>\n",
              "      <td>1</td>\n",
              "    </tr>\n",
              "    <tr>\n",
              "      <th>23435</th>\n",
              "      <td>1.558801</td>\n",
              "      <td>-0.746095</td>\n",
              "      <td>0.009731</td>\n",
              "      <td>-0.056072</td>\n",
              "      <td>-0.087351</td>\n",
              "      <td>0</td>\n",
              "      <td>0</td>\n",
              "      <td>1</td>\n",
              "      <td>1</td>\n",
              "      <td>1</td>\n",
              "    </tr>\n",
              "    <tr>\n",
              "      <th>13149</th>\n",
              "      <td>0.326644</td>\n",
              "      <td>0.347020</td>\n",
              "      <td>0.705811</td>\n",
              "      <td>-0.024329</td>\n",
              "      <td>-0.140869</td>\n",
              "      <td>0</td>\n",
              "      <td>0</td>\n",
              "      <td>1</td>\n",
              "      <td>2</td>\n",
              "      <td>1</td>\n",
              "    </tr>\n",
              "  </tbody>\n",
              "</table>\n",
              "</div>"
            ],
            "text/plain": [
              "            age    height    weight     ap_hi  ...  alco  active  cholesterol  gluc\n",
              "56510 -0.877095  1.850054  0.473784 -0.056072  ...     0       1            1     1\n",
              "38790  0.972156  0.620299 -0.454323  0.070901  ...     0       0            1     1\n",
              "54598 -1.373206  0.483660  1.865944  0.070901  ...     0       1            1     1\n",
              "23435  1.558801 -0.746095  0.009731 -0.056072  ...     0       1            1     1\n",
              "13149  0.326644  0.347020  0.705811 -0.024329  ...     0       1            2     1\n",
              "\n",
              "[5 rows x 10 columns]"
            ]
          },
          "metadata": {
            "tags": []
          },
          "execution_count": 29
        }
      ]
    },
    {
      "cell_type": "code",
      "metadata": {
        "id": "4uTUOFlEMcZo",
        "colab_type": "code",
        "outputId": "7aed8007-ee1f-4b8c-db54-bc9c4cbdd2a9",
        "colab": {
          "base_uri": "https://localhost:8080/",
          "height": 683
        }
      },
      "source": [
        "logml.fit().summary()"
      ],
      "execution_count": 30,
      "outputs": [
        {
          "output_type": "stream",
          "text": [
            "/usr/local/lib/python3.6/dist-packages/statsmodels/genmod/families/family.py:890: RuntimeWarning: divide by zero encountered in true_divide\n",
            "  n_endog_mu = self._clean((1. - endog) / (1. - mu))\n",
            "/usr/local/lib/python3.6/dist-packages/statsmodels/genmod/families/family.py:890: RuntimeWarning: invalid value encountered in true_divide\n",
            "  n_endog_mu = self._clean((1. - endog) / (1. - mu))\n",
            "/usr/local/lib/python3.6/dist-packages/statsmodels/genmod/families/family.py:942: RuntimeWarning: divide by zero encountered in true_divide\n",
            "  special.gammaln(n - y + 1) + y * np.log(mu / (1 - mu)) +\n",
            "/usr/local/lib/python3.6/dist-packages/statsmodels/genmod/families/family.py:942: RuntimeWarning: invalid value encountered in multiply\n",
            "  special.gammaln(n - y + 1) + y * np.log(mu / (1 - mu)) +\n",
            "/usr/local/lib/python3.6/dist-packages/statsmodels/genmod/families/family.py:943: RuntimeWarning: divide by zero encountered in log\n",
            "  n * np.log(1 - mu)) * var_weights\n",
            "/usr/local/lib/python3.6/dist-packages/statsmodels/genmod/families/family.py:943: RuntimeWarning: invalid value encountered in add\n",
            "  n * np.log(1 - mu)) * var_weights\n"
          ],
          "name": "stderr"
        },
        {
          "output_type": "execute_result",
          "data": {
            "text/html": [
              "<table class=\"simpletable\">\n",
              "<caption>Generalized Linear Model Regression Results</caption>\n",
              "<tr>\n",
              "  <th>Dep. Variable:</th>        <td>cardio</td>      <th>  No. Observations:  </th>  <td> 44771</td> \n",
              "</tr>\n",
              "<tr>\n",
              "  <th>Model:</th>                  <td>GLM</td>       <th>  Df Residuals:      </th>  <td> 44760</td> \n",
              "</tr>\n",
              "<tr>\n",
              "  <th>Model Family:</th>        <td>Binomial</td>     <th>  Df Model:          </th>  <td>    10</td> \n",
              "</tr>\n",
              "<tr>\n",
              "  <th>Link Function:</th>         <td>logit</td>      <th>  Scale:             </th> <td>  1.0000</td>\n",
              "</tr>\n",
              "<tr>\n",
              "  <th>Method:</th>                <td>IRLS</td>       <th>  Log-Likelihood:    </th> <td>     nan</td>\n",
              "</tr>\n",
              "<tr>\n",
              "  <th>Date:</th>            <td>Wed, 13 May 2020</td> <th>  Deviance:          </th> <td>     nan</td>\n",
              "</tr>\n",
              "<tr>\n",
              "  <th>Time:</th>                <td>23:03:47</td>     <th>  Pearson chi2:      </th> <td>1.39e+16</td>\n",
              "</tr>\n",
              "<tr>\n",
              "  <th>No. Iterations:</th>         <td>100</td>       <th>                     </th>     <td> </td>   \n",
              "</tr>\n",
              "<tr>\n",
              "  <th>Covariance Type:</th>     <td>nonrobust</td>    <th>                     </th>     <td> </td>   \n",
              "</tr>\n",
              "</table>\n",
              "<table class=\"simpletable\">\n",
              "<tr>\n",
              "       <td></td>          <th>coef</th>     <th>std err</th>      <th>z</th>      <th>P>|z|</th>  <th>[0.025</th>    <th>0.975]</th>  \n",
              "</tr>\n",
              "<tr>\n",
              "  <th>const</th>       <td>   -0.2623</td> <td>    0.036</td> <td>   -7.343</td> <td> 0.000</td> <td>   -0.332</td> <td>   -0.192</td>\n",
              "</tr>\n",
              "<tr>\n",
              "  <th>age</th>         <td>    0.3666</td> <td>    0.011</td> <td>   33.415</td> <td> 0.000</td> <td>    0.345</td> <td>    0.388</td>\n",
              "</tr>\n",
              "<tr>\n",
              "  <th>height</th>      <td>   -0.0336</td> <td>    0.011</td> <td>   -2.966</td> <td> 0.003</td> <td>   -0.056</td> <td>   -0.011</td>\n",
              "</tr>\n",
              "<tr>\n",
              "  <th>weight</th>      <td>    0.2214</td> <td>    0.012</td> <td>   19.034</td> <td> 0.000</td> <td>    0.199</td> <td>    0.244</td>\n",
              "</tr>\n",
              "<tr>\n",
              "  <th>ap_hi</th>       <td>    6.3779</td> <td>    0.121</td> <td>   52.755</td> <td> 0.000</td> <td>    6.141</td> <td>    6.615</td>\n",
              "</tr>\n",
              "<tr>\n",
              "  <th>ap_lo</th>       <td>    0.0657</td> <td>    0.018</td> <td>    3.642</td> <td> 0.000</td> <td>    0.030</td> <td>    0.101</td>\n",
              "</tr>\n",
              "<tr>\n",
              "  <th>smoke</th>       <td>   -0.2008</td> <td>    0.040</td> <td>   -4.999</td> <td> 0.000</td> <td>   -0.280</td> <td>   -0.122</td>\n",
              "</tr>\n",
              "<tr>\n",
              "  <th>alco</th>        <td>   -0.1724</td> <td>    0.051</td> <td>   -3.398</td> <td> 0.001</td> <td>   -0.272</td> <td>   -0.073</td>\n",
              "</tr>\n",
              "<tr>\n",
              "  <th>active</th>      <td>   -0.1935</td> <td>    0.026</td> <td>   -7.345</td> <td> 0.000</td> <td>   -0.245</td> <td>   -0.142</td>\n",
              "</tr>\n",
              "<tr>\n",
              "  <th>cholesterol</th> <td>    0.5264</td> <td>    0.019</td> <td>   27.984</td> <td> 0.000</td> <td>    0.490</td> <td>    0.563</td>\n",
              "</tr>\n",
              "<tr>\n",
              "  <th>gluc</th>        <td>   -0.1305</td> <td>    0.021</td> <td>   -6.124</td> <td> 0.000</td> <td>   -0.172</td> <td>   -0.089</td>\n",
              "</tr>\n",
              "</table>"
            ],
            "text/plain": [
              "<class 'statsmodels.iolib.summary.Summary'>\n",
              "\"\"\"\n",
              "                 Generalized Linear Model Regression Results                  \n",
              "==============================================================================\n",
              "Dep. Variable:                 cardio   No. Observations:                44771\n",
              "Model:                            GLM   Df Residuals:                    44760\n",
              "Model Family:                Binomial   Df Model:                           10\n",
              "Link Function:                  logit   Scale:                          1.0000\n",
              "Method:                          IRLS   Log-Likelihood:                    nan\n",
              "Date:                Wed, 13 May 2020   Deviance:                          nan\n",
              "Time:                        23:03:47   Pearson chi2:                 1.39e+16\n",
              "No. Iterations:                   100                                         \n",
              "Covariance Type:            nonrobust                                         \n",
              "===============================================================================\n",
              "                  coef    std err          z      P>|z|      [0.025      0.975]\n",
              "-------------------------------------------------------------------------------\n",
              "const          -0.2623      0.036     -7.343      0.000      -0.332      -0.192\n",
              "age             0.3666      0.011     33.415      0.000       0.345       0.388\n",
              "height         -0.0336      0.011     -2.966      0.003      -0.056      -0.011\n",
              "weight          0.2214      0.012     19.034      0.000       0.199       0.244\n",
              "ap_hi           6.3779      0.121     52.755      0.000       6.141       6.615\n",
              "ap_lo           0.0657      0.018      3.642      0.000       0.030       0.101\n",
              "smoke          -0.2008      0.040     -4.999      0.000      -0.280      -0.122\n",
              "alco           -0.1724      0.051     -3.398      0.001      -0.272      -0.073\n",
              "active         -0.1935      0.026     -7.345      0.000      -0.245      -0.142\n",
              "cholesterol     0.5264      0.019     27.984      0.000       0.490       0.563\n",
              "gluc           -0.1305      0.021     -6.124      0.000      -0.172      -0.089\n",
              "===============================================================================\n",
              "\"\"\""
            ]
          },
          "metadata": {
            "tags": []
          },
          "execution_count": 30
        }
      ]
    },
    {
      "cell_type": "code",
      "metadata": {
        "id": "RNo7s-JlMiEH",
        "colab_type": "code",
        "colab": {}
      },
      "source": [
        "def vif_cal(input_data,dependent_col):\n",
        "    vif_df=pd.DataFrame( columns = ['Var','Vif'])\n",
        "    x_vars=input_data.drop([dependent_col],axis=1)\n",
        "    xvar_names = x_vars.columns\n",
        "    for i in range(0,xvar_names.shape[0]):\n",
        "        y=x_vars[xvar_names[i]]\n",
        "        x=x_vars[xvar_names.drop(xvar_names[i])]\n",
        "        rsq=sm.OLS(y,x).fit().rsquared\n",
        "        vif = round(1/(1-rsq),2)\n",
        "        vif_df.loc[i]=[xvar_names[i],vif]\n",
        "    return vif_df.sort_values(by='Vif', axis=0, ascending=False,inplace=False)"
      ],
      "execution_count": 0,
      "outputs": []
    },
    {
      "cell_type": "code",
      "metadata": {
        "id": "Uq3gd9_-NVo8",
        "colab_type": "code",
        "outputId": "8ff68b3e-16e3-4b74-c148-4fb3b948a33c",
        "colab": {
          "base_uri": "https://localhost:8080/",
          "height": 359
        }
      },
      "source": [
        "vif_cal(input_data=train[features_vif],dependent_col=\"cardio\")"
      ],
      "execution_count": 32,
      "outputs": [
        {
          "output_type": "execute_result",
          "data": {
            "text/html": [
              "<div>\n",
              "<style scoped>\n",
              "    .dataframe tbody tr th:only-of-type {\n",
              "        vertical-align: middle;\n",
              "    }\n",
              "\n",
              "    .dataframe tbody tr th {\n",
              "        vertical-align: top;\n",
              "    }\n",
              "\n",
              "    .dataframe thead th {\n",
              "        text-align: right;\n",
              "    }\n",
              "</style>\n",
              "<table border=\"1\" class=\"dataframe\">\n",
              "  <thead>\n",
              "    <tr style=\"text-align: right;\">\n",
              "      <th></th>\n",
              "      <th>Var</th>\n",
              "      <th>Vif</th>\n",
              "    </tr>\n",
              "  </thead>\n",
              "  <tbody>\n",
              "    <tr>\n",
              "      <th>9</th>\n",
              "      <td>gluc</td>\n",
              "      <td>5.78</td>\n",
              "    </tr>\n",
              "    <tr>\n",
              "      <th>8</th>\n",
              "      <td>cholesterol</td>\n",
              "      <td>5.72</td>\n",
              "    </tr>\n",
              "    <tr>\n",
              "      <th>7</th>\n",
              "      <td>active</td>\n",
              "      <td>3.30</td>\n",
              "    </tr>\n",
              "    <tr>\n",
              "      <th>5</th>\n",
              "      <td>smoke</td>\n",
              "      <td>1.28</td>\n",
              "    </tr>\n",
              "    <tr>\n",
              "      <th>6</th>\n",
              "      <td>alco</td>\n",
              "      <td>1.20</td>\n",
              "    </tr>\n",
              "    <tr>\n",
              "      <th>1</th>\n",
              "      <td>height</td>\n",
              "      <td>1.15</td>\n",
              "    </tr>\n",
              "    <tr>\n",
              "      <th>2</th>\n",
              "      <td>weight</td>\n",
              "      <td>1.12</td>\n",
              "    </tr>\n",
              "    <tr>\n",
              "      <th>0</th>\n",
              "      <td>age</td>\n",
              "      <td>1.03</td>\n",
              "    </tr>\n",
              "    <tr>\n",
              "      <th>3</th>\n",
              "      <td>ap_hi</td>\n",
              "      <td>1.00</td>\n",
              "    </tr>\n",
              "    <tr>\n",
              "      <th>4</th>\n",
              "      <td>ap_lo</td>\n",
              "      <td>1.00</td>\n",
              "    </tr>\n",
              "  </tbody>\n",
              "</table>\n",
              "</div>"
            ],
            "text/plain": [
              "           Var   Vif\n",
              "9         gluc  5.78\n",
              "8  cholesterol  5.72\n",
              "7       active  3.30\n",
              "5        smoke  1.28\n",
              "6         alco  1.20\n",
              "1       height  1.15\n",
              "2       weight  1.12\n",
              "0          age  1.03\n",
              "3        ap_hi  1.00\n",
              "4        ap_lo  1.00"
            ]
          },
          "metadata": {
            "tags": []
          },
          "execution_count": 32
        }
      ]
    },
    {
      "cell_type": "code",
      "metadata": {
        "id": "SjPZsAflOGL5",
        "colab_type": "code",
        "outputId": "5784fbc8-44ba-44d2-c51d-b5d2f1e6f3ba",
        "colab": {
          "base_uri": "https://localhost:8080/",
          "height": 955
        }
      },
      "source": [
        "plt.figure(figsize=(30,20))\n",
        "sns.heatmap(train[features_vif].corr(),annot=True)\n"
      ],
      "execution_count": 33,
      "outputs": [
        {
          "output_type": "execute_result",
          "data": {
            "text/plain": [
              "<matplotlib.axes._subplots.AxesSubplot at 0x7faef1ccf128>"
            ]
          },
          "metadata": {
            "tags": []
          },
          "execution_count": 33
        },
        {
          "output_type": "display_data",
          "data": {
            "image/png": "[encoded data removed]",
            "text/plain": [
              "<Figure size 2160x1440 with 2 Axes>"
            ]
          },
          "metadata": {
            "tags": [],
            "needs_background": "light"
          }
        }
      ]
    },
    {
      "cell_type": "code",
      "metadata": {
        "id": "tcD0l0b2OI9l",
        "colab_type": "code",
        "colab": {}
      },
      "source": [
        "logreg = LogisticRegression()\n"
      ],
      "execution_count": 0,
      "outputs": []
    },
    {
      "cell_type": "code",
      "metadata": {
        "id": "Vqs1VenKOQi3",
        "colab_type": "code",
        "outputId": "2d353b57-8da5-482b-a126-5e417aa846e4",
        "colab": {
          "base_uri": "https://localhost:8080/",
          "height": 102
        }
      },
      "source": [
        "logreg.fit(X_train,y_train)"
      ],
      "execution_count": 35,
      "outputs": [
        {
          "output_type": "execute_result",
          "data": {
            "text/plain": [
              "LogisticRegression(C=1.0, class_weight=None, dual=False, fit_intercept=True,\n",
              "                   intercept_scaling=1, l1_ratio=None, max_iter=100,\n",
              "                   multi_class='auto', n_jobs=None, penalty='l2',\n",
              "                   random_state=None, solver='lbfgs', tol=0.0001, verbose=0,\n",
              "                   warm_start=False)"
            ]
          },
          "metadata": {
            "tags": []
          },
          "execution_count": 35
        }
      ]
    },
    {
      "cell_type": "code",
      "metadata": {
        "id": "6TqRU_ZlOuvk",
        "colab_type": "code",
        "colab": {}
      },
      "source": [
        "y_pred_log = logreg.predict(X_test)"
      ],
      "execution_count": 0,
      "outputs": []
    },
    {
      "cell_type": "code",
      "metadata": {
        "id": "f6uAGPDIOzmf",
        "colab_type": "code",
        "outputId": "20a82f5d-046d-4c73-d3b2-02486defa160",
        "colab": {
          "base_uri": "https://localhost:8080/",
          "height": 34
        }
      },
      "source": [
        "print(accuracy_score(y_test,y_pred_log))"
      ],
      "execution_count": 37,
      "outputs": [
        {
          "output_type": "stream",
          "text": [
            "0.719889352439688\n"
          ],
          "name": "stdout"
        }
      ]
    },
    {
      "cell_type": "code",
      "metadata": {
        "id": "6zZw5iQ6O6Tb",
        "colab_type": "code",
        "outputId": "796cbe12-6d30-409b-f355-f74ff3cf15d4",
        "colab": {
          "base_uri": "https://localhost:8080/",
          "height": 51
        }
      },
      "source": [
        "confusion_matrix(y_test,y_pred_log)"
      ],
      "execution_count": 38,
      "outputs": [
        {
          "output_type": "execute_result",
          "data": {
            "text/plain": [
              "array([[8407, 2654],\n",
              "       [3523, 7468]])"
            ]
          },
          "metadata": {
            "tags": []
          },
          "execution_count": 38
        }
      ]
    },
    {
      "cell_type": "code",
      "metadata": {
        "id": "8o8fZR7BPM8k",
        "colab_type": "code",
        "outputId": "ea92f430-5584-4fd3-8c5f-f172af7d9cc3",
        "colab": {
          "base_uri": "https://localhost:8080/",
          "height": 295
        }
      },
      "source": [
        "fpr, tpr, threshold = metrics.roc_curve(y_test, y_pred_log)\n",
        "roc_auc = metrics.auc(fpr, tpr)\n",
        "\n",
        "plt.title('ROC Curve')\n",
        "plt.plot(fpr, tpr, label = 'AUC = %0.2f' % roc_auc)\n",
        "plt.plot([0, 1], [0, 1],'r--')\n",
        "plt.ylabel('True Positive Rate')\n",
        "plt.xlabel('False Positive Rate')\n",
        "plt.show()"
      ],
      "execution_count": 39,
      "outputs": [
        {
          "output_type": "display_data",
          "data": {
            "image/png": "[encoded data removed]",
            "text/plain": [
              "<Figure size 432x288 with 1 Axes>"
            ]
          },
          "metadata": {
            "tags": [],
            "needs_background": "light"
          }
        }
      ]
    },
    {
      "cell_type": "code",
      "metadata": {
        "id": "cvSbDww1PN1I",
        "colab_type": "code",
        "colab": {}
      },
      "source": [
        "from sklearn.ensemble import RandomForestClassifier "
      ],
      "execution_count": 0,
      "outputs": []
    },
    {
      "cell_type": "code",
      "metadata": {
        "id": "dYdR4G8GPsfo",
        "colab_type": "code",
        "colab": {}
      },
      "source": [
        "RFModel = RandomForestClassifier()"
      ],
      "execution_count": 0,
      "outputs": []
    },
    {
      "cell_type": "code",
      "metadata": {
        "id": "9COUjItzP5w_",
        "colab_type": "code",
        "outputId": "85132f68-8652-4302-9922-7ffd622dc114",
        "colab": {
          "base_uri": "https://localhost:8080/",
          "height": 153
        }
      },
      "source": [
        "RFModel.fit(X_train,y_train)"
      ],
      "execution_count": 42,
      "outputs": [
        {
          "output_type": "execute_result",
          "data": {
            "text/plain": [
              "RandomForestClassifier(bootstrap=True, ccp_alpha=0.0, class_weight=None,\n",
              "                       criterion='gini', max_depth=None, max_features='auto',\n",
              "                       max_leaf_nodes=None, max_samples=None,\n",
              "                       min_impurity_decrease=0.0, min_impurity_split=None,\n",
              "                       min_samples_leaf=1, min_samples_split=2,\n",
              "                       min_weight_fraction_leaf=0.0, n_estimators=100,\n",
              "                       n_jobs=None, oob_score=False, random_state=None,\n",
              "                       verbose=0, warm_start=False)"
            ]
          },
          "metadata": {
            "tags": []
          },
          "execution_count": 42
        }
      ]
    },
    {
      "cell_type": "code",
      "metadata": {
        "id": "-aQwby0nP9wC",
        "colab_type": "code",
        "colab": {}
      },
      "source": [
        "y_pred_rf = RFModel.predict(X_test)"
      ],
      "execution_count": 0,
      "outputs": []
    },
    {
      "cell_type": "code",
      "metadata": {
        "id": "YmsnWR7jQCKO",
        "colab_type": "code",
        "outputId": "ff08dcd6-798c-4311-8a0d-a39152ddfa0c",
        "colab": {
          "base_uri": "https://localhost:8080/",
          "height": 34
        }
      },
      "source": [
        "accuracy_score(y_test,y_pred_rf)"
      ],
      "execution_count": 44,
      "outputs": [
        {
          "output_type": "execute_result",
          "data": {
            "text/plain": [
              "0.7140848902593869"
            ]
          },
          "metadata": {
            "tags": []
          },
          "execution_count": 44
        }
      ]
    },
    {
      "cell_type": "code",
      "metadata": {
        "id": "9ByE5jD0dW7L",
        "colab_type": "code",
        "colab": {}
      },
      "source": [
        "xgb = XGBClassifier(learning_rate=0.01,n_estimators=500)"
      ],
      "execution_count": 0,
      "outputs": []
    },
    {
      "cell_type": "code",
      "metadata": {
        "id": "ca2r_tf4goy5",
        "colab_type": "code",
        "outputId": "96a5da1d-3348-4230-a10c-2ca626782179",
        "colab": {
          "base_uri": "https://localhost:8080/",
          "height": 136
        }
      },
      "source": [
        "xgb.fit(X_train,y_train)"
      ],
      "execution_count": 46,
      "outputs": [
        {
          "output_type": "execute_result",
          "data": {
            "text/plain": [
              "XGBClassifier(base_score=0.5, booster='gbtree', colsample_bylevel=1,\n",
              "              colsample_bynode=1, colsample_bytree=1, gamma=0,\n",
              "              learning_rate=0.01, max_delta_step=0, max_depth=3,\n",
              "              min_child_weight=1, missing=None, n_estimators=500, n_jobs=1,\n",
              "              nthread=None, objective='binary:logistic', random_state=0,\n",
              "              reg_alpha=0, reg_lambda=1, scale_pos_weight=1, seed=None,\n",
              "              silent=None, subsample=1, verbosity=1)"
            ]
          },
          "metadata": {
            "tags": []
          },
          "execution_count": 46
        }
      ]
    },
    {
      "cell_type": "code",
      "metadata": {
        "id": "NSRLrBHHgurB",
        "colab_type": "code",
        "colab": {}
      },
      "source": [
        "y_pred_xgb = xgb.predict(X_test)"
      ],
      "execution_count": 0,
      "outputs": []
    },
    {
      "cell_type": "code",
      "metadata": {
        "id": "ZaY5bvPXgyJl",
        "colab_type": "code",
        "outputId": "2d70bc39-adb1-402d-8ae3-e677337a2646",
        "colab": {
          "base_uri": "https://localhost:8080/",
          "height": 34
        }
      },
      "source": [
        "xgb.score(X_test, y_test)"
      ],
      "execution_count": 48,
      "outputs": [
        {
          "output_type": "execute_result",
          "data": {
            "text/plain": [
              "0.7356248866315981"
            ]
          },
          "metadata": {
            "tags": []
          },
          "execution_count": 48
        }
      ]
    },
    {
      "cell_type": "code",
      "metadata": {
        "id": "9vpE8Pu4wh8b",
        "colab_type": "code",
        "colab": {}
      },
      "source": [
        "pickle.dump(xgb,open('model.pkl','wb'))"
      ],
      "execution_count": 0,
      "outputs": []
    },
    {
      "cell_type": "code",
      "metadata": {
        "id": "pdmocMgXSN8q",
        "colab_type": "code",
        "colab": {}
      },
      "source": [
        ""
      ],
      "execution_count": 0,
      "outputs": []
    }
  ]
}